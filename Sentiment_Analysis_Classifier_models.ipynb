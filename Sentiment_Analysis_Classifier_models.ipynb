{
  "nbformat": 4,
  "nbformat_minor": 0,
  "metadata": {
    "colab": {
      "provenance": []
    },
    "kernelspec": {
      "name": "python3",
      "display_name": "Python 3"
    },
    "language_info": {
      "name": "python"
    }
  },
  "cells": [
    {
      "cell_type": "markdown",
      "source": [
        "#MOUNTING THE GOOGLE DRIVE TO COLAB"
      ],
      "metadata": {
        "id": "O0yoB7GE6KAu"
      }
    },
    {
      "cell_type": "code",
      "execution_count": null,
      "metadata": {
        "colab": {
          "base_uri": "https://localhost:8080/"
        },
        "id": "YHA4mfc0mljN",
        "outputId": "022b13d4-bdd9-4230-d3b9-00def966746d"
      },
      "outputs": [
        {
          "output_type": "stream",
          "name": "stdout",
          "text": [
            "Mounted at /content/drive\n"
          ]
        }
      ],
      "source": [
        "from google.colab import drive\n",
        "drive.mount('/content/drive')"
      ]
    },
    {
      "cell_type": "markdown",
      "source": [
        "#IMPORTING THE DATASET FORM DRIVE"
      ],
      "metadata": {
        "id": "HA6Ojx3q6Shs"
      }
    },
    {
      "cell_type": "code",
      "source": [
        "# Importing the libraries\n",
        "import numpy as np\n",
        "import pandas as pd\n"
      ],
      "metadata": {
        "id": "h1fNnXQxmqnY"
      },
      "execution_count": null,
      "outputs": []
    },
    {
      "cell_type": "code",
      "source": [
        "# Importing the dataset\n",
        "dataset = pd.read_csv('/content/drive/MyDrive/ibmskillbuild project/Restaurant_Reviews.tsv', delimiter = '\\t', quoting = 3)"
      ],
      "metadata": {
        "id": "QZ8JId1Ym61T"
      },
      "execution_count": null,
      "outputs": []
    },
    {
      "cell_type": "code",
      "source": [
        "dataset.head(10)\n"
      ],
      "metadata": {
        "id": "Ko0uGW1Cm8Qa",
        "colab": {
          "base_uri": "https://localhost:8080/",
          "height": 363
        },
        "outputId": "d217a34e-7ff3-4ed7-fbd4-05d5e063a9f6"
      },
      "execution_count": null,
      "outputs": [
        {
          "output_type": "execute_result",
          "data": {
            "text/plain": [
              "                                              Review  Liked\n",
              "0                           Wow... Loved this place.      1\n",
              "1                                 Crust is not good.      0\n",
              "2          Not tasty and the texture was just nasty.      0\n",
              "3  Stopped by during the late May bank holiday of...      1\n",
              "4  The selection on the menu was great and so wer...      1\n",
              "5     Now I am getting angry and I want my damn pho.      0\n",
              "6              Honeslty it didn't taste THAT fresh.)      0\n",
              "7  The potatoes were like rubber and you could te...      0\n",
              "8                          The fries were great too.      1\n",
              "9                                     A great touch.      1"
            ],
            "text/html": [
              "\n",
              "  <div id=\"df-5803b594-2f9b-40b7-9d3b-f1bf9deb86a7\" class=\"colab-df-container\">\n",
              "    <div>\n",
              "<style scoped>\n",
              "    .dataframe tbody tr th:only-of-type {\n",
              "        vertical-align: middle;\n",
              "    }\n",
              "\n",
              "    .dataframe tbody tr th {\n",
              "        vertical-align: top;\n",
              "    }\n",
              "\n",
              "    .dataframe thead th {\n",
              "        text-align: right;\n",
              "    }\n",
              "</style>\n",
              "<table border=\"1\" class=\"dataframe\">\n",
              "  <thead>\n",
              "    <tr style=\"text-align: right;\">\n",
              "      <th></th>\n",
              "      <th>Review</th>\n",
              "      <th>Liked</th>\n",
              "    </tr>\n",
              "  </thead>\n",
              "  <tbody>\n",
              "    <tr>\n",
              "      <th>0</th>\n",
              "      <td>Wow... Loved this place.</td>\n",
              "      <td>1</td>\n",
              "    </tr>\n",
              "    <tr>\n",
              "      <th>1</th>\n",
              "      <td>Crust is not good.</td>\n",
              "      <td>0</td>\n",
              "    </tr>\n",
              "    <tr>\n",
              "      <th>2</th>\n",
              "      <td>Not tasty and the texture was just nasty.</td>\n",
              "      <td>0</td>\n",
              "    </tr>\n",
              "    <tr>\n",
              "      <th>3</th>\n",
              "      <td>Stopped by during the late May bank holiday of...</td>\n",
              "      <td>1</td>\n",
              "    </tr>\n",
              "    <tr>\n",
              "      <th>4</th>\n",
              "      <td>The selection on the menu was great and so wer...</td>\n",
              "      <td>1</td>\n",
              "    </tr>\n",
              "    <tr>\n",
              "      <th>5</th>\n",
              "      <td>Now I am getting angry and I want my damn pho.</td>\n",
              "      <td>0</td>\n",
              "    </tr>\n",
              "    <tr>\n",
              "      <th>6</th>\n",
              "      <td>Honeslty it didn't taste THAT fresh.)</td>\n",
              "      <td>0</td>\n",
              "    </tr>\n",
              "    <tr>\n",
              "      <th>7</th>\n",
              "      <td>The potatoes were like rubber and you could te...</td>\n",
              "      <td>0</td>\n",
              "    </tr>\n",
              "    <tr>\n",
              "      <th>8</th>\n",
              "      <td>The fries were great too.</td>\n",
              "      <td>1</td>\n",
              "    </tr>\n",
              "    <tr>\n",
              "      <th>9</th>\n",
              "      <td>A great touch.</td>\n",
              "      <td>1</td>\n",
              "    </tr>\n",
              "  </tbody>\n",
              "</table>\n",
              "</div>\n",
              "    <div class=\"colab-df-buttons\">\n",
              "\n",
              "  <div class=\"colab-df-container\">\n",
              "    <button class=\"colab-df-convert\" onclick=\"convertToInteractive('df-5803b594-2f9b-40b7-9d3b-f1bf9deb86a7')\"\n",
              "            title=\"Convert this dataframe to an interactive table.\"\n",
              "            style=\"display:none;\">\n",
              "\n",
              "  <svg xmlns=\"http://www.w3.org/2000/svg\" height=\"24px\" viewBox=\"0 -960 960 960\">\n",
              "    <path d=\"M120-120v-720h720v720H120Zm60-500h600v-160H180v160Zm220 220h160v-160H400v160Zm0 220h160v-160H400v160ZM180-400h160v-160H180v160Zm440 0h160v-160H620v160ZM180-180h160v-160H180v160Zm440 0h160v-160H620v160Z\"/>\n",
              "  </svg>\n",
              "    </button>\n",
              "\n",
              "  <style>\n",
              "    .colab-df-container {\n",
              "      display:flex;\n",
              "      gap: 12px;\n",
              "    }\n",
              "\n",
              "    .colab-df-convert {\n",
              "      background-color: #E8F0FE;\n",
              "      border: none;\n",
              "      border-radius: 50%;\n",
              "      cursor: pointer;\n",
              "      display: none;\n",
              "      fill: #1967D2;\n",
              "      height: 32px;\n",
              "      padding: 0 0 0 0;\n",
              "      width: 32px;\n",
              "    }\n",
              "\n",
              "    .colab-df-convert:hover {\n",
              "      background-color: #E2EBFA;\n",
              "      box-shadow: 0px 1px 2px rgba(60, 64, 67, 0.3), 0px 1px 3px 1px rgba(60, 64, 67, 0.15);\n",
              "      fill: #174EA6;\n",
              "    }\n",
              "\n",
              "    .colab-df-buttons div {\n",
              "      margin-bottom: 4px;\n",
              "    }\n",
              "\n",
              "    [theme=dark] .colab-df-convert {\n",
              "      background-color: #3B4455;\n",
              "      fill: #D2E3FC;\n",
              "    }\n",
              "\n",
              "    [theme=dark] .colab-df-convert:hover {\n",
              "      background-color: #434B5C;\n",
              "      box-shadow: 0px 1px 3px 1px rgba(0, 0, 0, 0.15);\n",
              "      filter: drop-shadow(0px 1px 2px rgba(0, 0, 0, 0.3));\n",
              "      fill: #FFFFFF;\n",
              "    }\n",
              "  </style>\n",
              "\n",
              "    <script>\n",
              "      const buttonEl =\n",
              "        document.querySelector('#df-5803b594-2f9b-40b7-9d3b-f1bf9deb86a7 button.colab-df-convert');\n",
              "      buttonEl.style.display =\n",
              "        google.colab.kernel.accessAllowed ? 'block' : 'none';\n",
              "\n",
              "      async function convertToInteractive(key) {\n",
              "        const element = document.querySelector('#df-5803b594-2f9b-40b7-9d3b-f1bf9deb86a7');\n",
              "        const dataTable =\n",
              "          await google.colab.kernel.invokeFunction('convertToInteractive',\n",
              "                                                    [key], {});\n",
              "        if (!dataTable) return;\n",
              "\n",
              "        const docLinkHtml = 'Like what you see? Visit the ' +\n",
              "          '<a target=\"_blank\" href=https://colab.research.google.com/notebooks/data_table.ipynb>data table notebook</a>'\n",
              "          + ' to learn more about interactive tables.';\n",
              "        element.innerHTML = '';\n",
              "        dataTable['output_type'] = 'display_data';\n",
              "        await google.colab.output.renderOutput(dataTable, element);\n",
              "        const docLink = document.createElement('div');\n",
              "        docLink.innerHTML = docLinkHtml;\n",
              "        element.appendChild(docLink);\n",
              "      }\n",
              "    </script>\n",
              "  </div>\n",
              "\n",
              "\n",
              "<div id=\"df-35dc8d00-9a0a-4ec9-9f18-00f04a890094\">\n",
              "  <button class=\"colab-df-quickchart\" onclick=\"quickchart('df-35dc8d00-9a0a-4ec9-9f18-00f04a890094')\"\n",
              "            title=\"Suggest charts.\"\n",
              "            style=\"display:none;\">\n",
              "\n",
              "<svg xmlns=\"http://www.w3.org/2000/svg\" height=\"24px\"viewBox=\"0 0 24 24\"\n",
              "     width=\"24px\">\n",
              "    <g>\n",
              "        <path d=\"M19 3H5c-1.1 0-2 .9-2 2v14c0 1.1.9 2 2 2h14c1.1 0 2-.9 2-2V5c0-1.1-.9-2-2-2zM9 17H7v-7h2v7zm4 0h-2V7h2v10zm4 0h-2v-4h2v4z\"/>\n",
              "    </g>\n",
              "</svg>\n",
              "  </button>\n",
              "\n",
              "<style>\n",
              "  .colab-df-quickchart {\n",
              "      --bg-color: #E8F0FE;\n",
              "      --fill-color: #1967D2;\n",
              "      --hover-bg-color: #E2EBFA;\n",
              "      --hover-fill-color: #174EA6;\n",
              "      --disabled-fill-color: #AAA;\n",
              "      --disabled-bg-color: #DDD;\n",
              "  }\n",
              "\n",
              "  [theme=dark] .colab-df-quickchart {\n",
              "      --bg-color: #3B4455;\n",
              "      --fill-color: #D2E3FC;\n",
              "      --hover-bg-color: #434B5C;\n",
              "      --hover-fill-color: #FFFFFF;\n",
              "      --disabled-bg-color: #3B4455;\n",
              "      --disabled-fill-color: #666;\n",
              "  }\n",
              "\n",
              "  .colab-df-quickchart {\n",
              "    background-color: var(--bg-color);\n",
              "    border: none;\n",
              "    border-radius: 50%;\n",
              "    cursor: pointer;\n",
              "    display: none;\n",
              "    fill: var(--fill-color);\n",
              "    height: 32px;\n",
              "    padding: 0;\n",
              "    width: 32px;\n",
              "  }\n",
              "\n",
              "  .colab-df-quickchart:hover {\n",
              "    background-color: var(--hover-bg-color);\n",
              "    box-shadow: 0 1px 2px rgba(60, 64, 67, 0.3), 0 1px 3px 1px rgba(60, 64, 67, 0.15);\n",
              "    fill: var(--button-hover-fill-color);\n",
              "  }\n",
              "\n",
              "  .colab-df-quickchart-complete:disabled,\n",
              "  .colab-df-quickchart-complete:disabled:hover {\n",
              "    background-color: var(--disabled-bg-color);\n",
              "    fill: var(--disabled-fill-color);\n",
              "    box-shadow: none;\n",
              "  }\n",
              "\n",
              "  .colab-df-spinner {\n",
              "    border: 2px solid var(--fill-color);\n",
              "    border-color: transparent;\n",
              "    border-bottom-color: var(--fill-color);\n",
              "    animation:\n",
              "      spin 1s steps(1) infinite;\n",
              "  }\n",
              "\n",
              "  @keyframes spin {\n",
              "    0% {\n",
              "      border-color: transparent;\n",
              "      border-bottom-color: var(--fill-color);\n",
              "      border-left-color: var(--fill-color);\n",
              "    }\n",
              "    20% {\n",
              "      border-color: transparent;\n",
              "      border-left-color: var(--fill-color);\n",
              "      border-top-color: var(--fill-color);\n",
              "    }\n",
              "    30% {\n",
              "      border-color: transparent;\n",
              "      border-left-color: var(--fill-color);\n",
              "      border-top-color: var(--fill-color);\n",
              "      border-right-color: var(--fill-color);\n",
              "    }\n",
              "    40% {\n",
              "      border-color: transparent;\n",
              "      border-right-color: var(--fill-color);\n",
              "      border-top-color: var(--fill-color);\n",
              "    }\n",
              "    60% {\n",
              "      border-color: transparent;\n",
              "      border-right-color: var(--fill-color);\n",
              "    }\n",
              "    80% {\n",
              "      border-color: transparent;\n",
              "      border-right-color: var(--fill-color);\n",
              "      border-bottom-color: var(--fill-color);\n",
              "    }\n",
              "    90% {\n",
              "      border-color: transparent;\n",
              "      border-bottom-color: var(--fill-color);\n",
              "    }\n",
              "  }\n",
              "</style>\n",
              "\n",
              "  <script>\n",
              "    async function quickchart(key) {\n",
              "      const quickchartButtonEl =\n",
              "        document.querySelector('#' + key + ' button');\n",
              "      quickchartButtonEl.disabled = true;  // To prevent multiple clicks.\n",
              "      quickchartButtonEl.classList.add('colab-df-spinner');\n",
              "      try {\n",
              "        const charts = await google.colab.kernel.invokeFunction(\n",
              "            'suggestCharts', [key], {});\n",
              "      } catch (error) {\n",
              "        console.error('Error during call to suggestCharts:', error);\n",
              "      }\n",
              "      quickchartButtonEl.classList.remove('colab-df-spinner');\n",
              "      quickchartButtonEl.classList.add('colab-df-quickchart-complete');\n",
              "    }\n",
              "    (() => {\n",
              "      let quickchartButtonEl =\n",
              "        document.querySelector('#df-35dc8d00-9a0a-4ec9-9f18-00f04a890094 button');\n",
              "      quickchartButtonEl.style.display =\n",
              "        google.colab.kernel.accessAllowed ? 'block' : 'none';\n",
              "    })();\n",
              "  </script>\n",
              "</div>\n",
              "    </div>\n",
              "  </div>\n"
            ]
          },
          "metadata": {},
          "execution_count": 142
        }
      ]
    },
    {
      "cell_type": "code",
      "source": [
        "dataset.sample(10)"
      ],
      "metadata": {
        "id": "9PXwyospm-Ov"
      },
      "execution_count": null,
      "outputs": []
    },
    {
      "cell_type": "markdown",
      "source": [
        "#TEXT CLEANING"
      ],
      "metadata": {
        "id": "urv8bTdKnR_L"
      }
    },
    {
      "cell_type": "code",
      "source": [
        "import nltk\n",
        "nltk.download('stopwords')"
      ],
      "metadata": {
        "id": "1sryj4gZnTv6"
      },
      "execution_count": null,
      "outputs": []
    },
    {
      "cell_type": "code",
      "source": [
        "import string\n",
        "from nltk.corpus import stopwords"
      ],
      "metadata": {
        "id": "K6mVpug3oIYz"
      },
      "execution_count": null,
      "outputs": []
    },
    {
      "cell_type": "code",
      "source": [
        "stopwords.words('english')"
      ],
      "metadata": {
        "id": "gvOWXsG6oOHv"
      },
      "execution_count": null,
      "outputs": []
    },
    {
      "cell_type": "code",
      "source": [
        "[punc for punc in string.punctuation]"
      ],
      "metadata": {
        "id": "tIQ5Llb5oQlX"
      },
      "execution_count": null,
      "outputs": []
    },
    {
      "cell_type": "code",
      "source": [
        "def text_process(msg):\n",
        "  nopunc = [char for char in msg if char not in string.punctuation]\n",
        "  nopunc = ''.join(nopunc)\n",
        "  return ' '.join([word for word in nopunc.split() if word.lower() not in stopwords.words('english')])"
      ],
      "metadata": {
        "id": "lZRtPsraoWuv"
      },
      "execution_count": null,
      "outputs": []
    },
    {
      "cell_type": "markdown",
      "source": [
        "Creating a column for adding the cleaned and Tokenized Review"
      ],
      "metadata": {
        "id": "TH81wzyX6yVl"
      }
    },
    {
      "cell_type": "code",
      "source": [
        "dataset['tokenized_Review'] = dataset['Review'].apply(text_process)"
      ],
      "metadata": {
        "id": "LQV0CKYOo0cz"
      },
      "execution_count": null,
      "outputs": []
    },
    {
      "cell_type": "code",
      "source": [
        "dataset.head(10)"
      ],
      "metadata": {
        "id": "6BPSepkro_-D"
      },
      "execution_count": null,
      "outputs": []
    },
    {
      "cell_type": "code",
      "source": [
        "from sklearn.feature_extraction.text import CountVectorizer"
      ],
      "metadata": {
        "id": "w-D21ItVpZiP"
      },
      "execution_count": null,
      "outputs": []
    },
    {
      "cell_type": "code",
      "source": [
        "vectorizer = CountVectorizer(max_df=0.9,min_df=10)\n",
        "X = vectorizer.fit_transform(dataset['tokenized_Review']).toarray()"
      ],
      "metadata": {
        "id": "rPr8mbtxp3LH"
      },
      "execution_count": null,
      "outputs": []
    },
    {
      "cell_type": "code",
      "source": [
        "X\n"
      ],
      "metadata": {
        "id": "lDTyMY8-qJFu"
      },
      "execution_count": null,
      "outputs": []
    },
    {
      "cell_type": "code",
      "source": [
        "from sklearn.model_selection import train_test_split\n",
        "X_train,X_test,y_train,y_test = train_test_split(dataset['tokenized_Review'],dataset['Liked'],random_state=107,test_size=0.2)"
      ],
      "metadata": {
        "id": "ouIflbwSqNHD"
      },
      "execution_count": null,
      "outputs": []
    },
    {
      "cell_type": "code",
      "source": [
        "X_train.head()"
      ],
      "metadata": {
        "id": "vJmiefEkqZ6I"
      },
      "execution_count": null,
      "outputs": []
    },
    {
      "cell_type": "code",
      "source": [
        "train_vectorized = vectorizer.transform(X_train)\n",
        "test_vectorized = vectorizer.transform(X_test)"
      ],
      "metadata": {
        "id": "s0RHl8iSqxTe"
      },
      "execution_count": null,
      "outputs": []
    },
    {
      "cell_type": "code",
      "source": [
        "X_train_array = train_vectorized.toarray()\n",
        "X_test_array = test_vectorized.toarray()"
      ],
      "metadata": {
        "id": "giJPvaqxrCwv"
      },
      "execution_count": null,
      "outputs": []
    },
    {
      "cell_type": "markdown",
      "source": [
        "#GAUSSIAN NB"
      ],
      "metadata": {
        "id": "iqnuqPT0rVOw"
      }
    },
    {
      "cell_type": "code",
      "source": [
        "from sklearn.naive_bayes import GaussianNB\n",
        "nb = GaussianNB()\n",
        "nb.fit(X_train_array,y_train)"
      ],
      "metadata": {
        "colab": {
          "base_uri": "https://localhost:8080/",
          "height": 74
        },
        "id": "Kxj67DDVrXvv",
        "outputId": "e4e00e8d-7164-474f-dd01-6c09e4f47fd7"
      },
      "execution_count": null,
      "outputs": [
        {
          "output_type": "execute_result",
          "data": {
            "text/plain": [
              "GaussianNB()"
            ],
            "text/html": [
              "<style>#sk-container-id-5 {color: black;background-color: white;}#sk-container-id-5 pre{padding: 0;}#sk-container-id-5 div.sk-toggleable {background-color: white;}#sk-container-id-5 label.sk-toggleable__label {cursor: pointer;display: block;width: 100%;margin-bottom: 0;padding: 0.3em;box-sizing: border-box;text-align: center;}#sk-container-id-5 label.sk-toggleable__label-arrow:before {content: \"▸\";float: left;margin-right: 0.25em;color: #696969;}#sk-container-id-5 label.sk-toggleable__label-arrow:hover:before {color: black;}#sk-container-id-5 div.sk-estimator:hover label.sk-toggleable__label-arrow:before {color: black;}#sk-container-id-5 div.sk-toggleable__content {max-height: 0;max-width: 0;overflow: hidden;text-align: left;background-color: #f0f8ff;}#sk-container-id-5 div.sk-toggleable__content pre {margin: 0.2em;color: black;border-radius: 0.25em;background-color: #f0f8ff;}#sk-container-id-5 input.sk-toggleable__control:checked~div.sk-toggleable__content {max-height: 200px;max-width: 100%;overflow: auto;}#sk-container-id-5 input.sk-toggleable__control:checked~label.sk-toggleable__label-arrow:before {content: \"▾\";}#sk-container-id-5 div.sk-estimator input.sk-toggleable__control:checked~label.sk-toggleable__label {background-color: #d4ebff;}#sk-container-id-5 div.sk-label input.sk-toggleable__control:checked~label.sk-toggleable__label {background-color: #d4ebff;}#sk-container-id-5 input.sk-hidden--visually {border: 0;clip: rect(1px 1px 1px 1px);clip: rect(1px, 1px, 1px, 1px);height: 1px;margin: -1px;overflow: hidden;padding: 0;position: absolute;width: 1px;}#sk-container-id-5 div.sk-estimator {font-family: monospace;background-color: #f0f8ff;border: 1px dotted black;border-radius: 0.25em;box-sizing: border-box;margin-bottom: 0.5em;}#sk-container-id-5 div.sk-estimator:hover {background-color: #d4ebff;}#sk-container-id-5 div.sk-parallel-item::after {content: \"\";width: 100%;border-bottom: 1px solid gray;flex-grow: 1;}#sk-container-id-5 div.sk-label:hover label.sk-toggleable__label {background-color: #d4ebff;}#sk-container-id-5 div.sk-serial::before {content: \"\";position: absolute;border-left: 1px solid gray;box-sizing: border-box;top: 0;bottom: 0;left: 50%;z-index: 0;}#sk-container-id-5 div.sk-serial {display: flex;flex-direction: column;align-items: center;background-color: white;padding-right: 0.2em;padding-left: 0.2em;position: relative;}#sk-container-id-5 div.sk-item {position: relative;z-index: 1;}#sk-container-id-5 div.sk-parallel {display: flex;align-items: stretch;justify-content: center;background-color: white;position: relative;}#sk-container-id-5 div.sk-item::before, #sk-container-id-5 div.sk-parallel-item::before {content: \"\";position: absolute;border-left: 1px solid gray;box-sizing: border-box;top: 0;bottom: 0;left: 50%;z-index: -1;}#sk-container-id-5 div.sk-parallel-item {display: flex;flex-direction: column;z-index: 1;position: relative;background-color: white;}#sk-container-id-5 div.sk-parallel-item:first-child::after {align-self: flex-end;width: 50%;}#sk-container-id-5 div.sk-parallel-item:last-child::after {align-self: flex-start;width: 50%;}#sk-container-id-5 div.sk-parallel-item:only-child::after {width: 0;}#sk-container-id-5 div.sk-dashed-wrapped {border: 1px dashed gray;margin: 0 0.4em 0.5em 0.4em;box-sizing: border-box;padding-bottom: 0.4em;background-color: white;}#sk-container-id-5 div.sk-label label {font-family: monospace;font-weight: bold;display: inline-block;line-height: 1.2em;}#sk-container-id-5 div.sk-label-container {text-align: center;}#sk-container-id-5 div.sk-container {/* jupyter's `normalize.less` sets `[hidden] { display: none; }` but bootstrap.min.css set `[hidden] { display: none !important; }` so we also need the `!important` here to be able to override the default hidden behavior on the sphinx rendered scikit-learn.org. See: https://github.com/scikit-learn/scikit-learn/issues/21755 */display: inline-block !important;position: relative;}#sk-container-id-5 div.sk-text-repr-fallback {display: none;}</style><div id=\"sk-container-id-5\" class=\"sk-top-container\"><div class=\"sk-text-repr-fallback\"><pre>GaussianNB()</pre><b>In a Jupyter environment, please rerun this cell to show the HTML representation or trust the notebook. <br />On GitHub, the HTML representation is unable to render, please try loading this page with nbviewer.org.</b></div><div class=\"sk-container\" hidden><div class=\"sk-item\"><div class=\"sk-estimator sk-toggleable\"><input class=\"sk-toggleable__control sk-hidden--visually\" id=\"sk-estimator-id-5\" type=\"checkbox\" checked><label for=\"sk-estimator-id-5\" class=\"sk-toggleable__label sk-toggleable__label-arrow\">GaussianNB</label><div class=\"sk-toggleable__content\"><pre>GaussianNB()</pre></div></div></div></div></div>"
            ]
          },
          "metadata": {},
          "execution_count": 118
        }
      ]
    },
    {
      "cell_type": "code",
      "source": [
        "y_train_preds_nb = nb.predict(X_train_array)\n",
        "y_test_preds_nb = nb.predict(X_test_array)"
      ],
      "metadata": {
        "id": "5C8Uh_A5rmp_"
      },
      "execution_count": null,
      "outputs": []
    },
    {
      "cell_type": "code",
      "source": [
        "# Accuracy, Precision and Recall\n",
        "from sklearn.metrics import accuracy_score\n",
        "from sklearn.metrics import precision_score\n",
        "from sklearn.metrics import recall_score\n",
        "from sklearn.metrics import f1_score\n",
        "from sklearn.metrics import roc_auc_score\n",
        "from sklearn.metrics import confusion_matrix\n",
        "\n",
        "def print_metrics(actual_training,predicted_training , actual_testing, predicted_testing):\n",
        "\n",
        "\n",
        "    # Training Scores\n",
        "    acc_train = accuracy_score(actual_training,predicted_training)\n",
        "    pre_train = precision_score(actual_training,predicted_training)\n",
        "    recall_train = recall_score(actual_training,predicted_training)\n",
        "    f1_train = f1_score(actual_training,predicted_training)\n",
        "    roc_score_train = roc_auc_score(actual_training,predicted_training)\n",
        "    confmat_train = confusion_matrix(actual_training,predicted_training)\n",
        "\n",
        "    #Testing score\n",
        "    acc_test = accuracy_score(actual_testing,predicted_testing)\n",
        "    pre_test = precision_score(actual_testing,predicted_testing)\n",
        "    recall_test = recall_score(actual_testing,predicted_testing)\n",
        "    f1_test = f1_score(actual_testing,predicted_testing)\n",
        "    roc_score_test = roc_auc_score(actual_testing,predicted_testing)\n",
        "    confmat_test = confusion_matrix(actual_testing,predicted_testing)\n",
        "\n",
        "\n",
        "    print('ACCURACY SCORE')\n",
        "    print('Training accuracy_score is : ',round(acc_train*100,2),\"%\")\n",
        "    print('Testing accuracy_score is : ',round(acc_test*100,2),\"%\")\n",
        "    print('\\n=====================================================\\n')\n",
        "    print('PRECISION SCORE')\n",
        "    print('Training precision_score is : ',round(pre_train*100,2),\"%\")\n",
        "    print('Testing precision_score is : ',round(pre_test*100,2),\"%\")\n",
        "    print('\\n=====================================================\\n')\n",
        "    print('RECALL SCORE')\n",
        "    print('Training recall_score is : ',round(recall_train*100,2),\"%\")\n",
        "    print('Testing recall_score is : ',round(recall_test*100,2),\"%\")\n",
        "    print('\\n=====================================================\\n')\n",
        "    print('F1 SCORE')\n",
        "    print('Training f1_score is : ',round(f1_train*100,2),\"%\")\n",
        "    print('Testing f1_score is : ',round(f1_test*100,2),\"%\")\n",
        "    print('\\n=====================================================\\n')\n",
        "    print('ROC_AUC_SCORE')\n",
        "    print('Training roc_auc_score is : ',round(roc_score_train*100,2),\"%\")\n",
        "    print('Testing roc_auc_score is : ',round(roc_score_test*100,2),\"%\")\n",
        "    print('\\n=====================================================\\n')\n",
        "    print('CONFUSION MATRIX')\n",
        "    print('Training Confusion_matrix is : ')\n",
        "    print(confmat_train)\n",
        "    print('Testing Confusion_matrix is : ')\n",
        "    print(confmat_test)\n",
        "\n",
        "\n"
      ],
      "metadata": {
        "id": "lMZLffferwPv"
      },
      "execution_count": null,
      "outputs": []
    },
    {
      "cell_type": "code",
      "source": [
        "#Printing the METRICS for the model\n",
        "print_metrics(y_train,y_train_preds_nb , y_test,y_test_preds_nb)"
      ],
      "metadata": {
        "colab": {
          "base_uri": "https://localhost:8080/"
        },
        "id": "MkZxSfIes2YM",
        "outputId": "59b32f8d-567b-4b1f-fc07-5b46ff26fd3e"
      },
      "execution_count": null,
      "outputs": [
        {
          "output_type": "stream",
          "name": "stdout",
          "text": [
            "ACCURACY SCORE\n",
            "Training accuracy_score is :  76.38 %\n",
            "Testing accuracy_score is :  72.5 %\n",
            "\n",
            "=====================================================\n",
            "\n",
            "PRECISION SCORE\n",
            "Training precision_score is :  84.04 %\n",
            "Testing precision_score is :  81.33 %\n",
            "\n",
            "=====================================================\n",
            "\n",
            "RECALL SCORE\n",
            "Training recall_score is :  64.82 %\n",
            "Testing recall_score is :  59.8 %\n",
            "\n",
            "=====================================================\n",
            "\n",
            "F1 SCORE\n",
            "Training f1_score is :  73.19 %\n",
            "Testing f1_score is :  68.93 %\n",
            "\n",
            "=====================================================\n",
            "\n",
            "ROC_AUC_SCORE\n",
            "Training roc_auc_score is :  76.32 %\n",
            "Testing roc_auc_score is :  72.76 %\n",
            "\n",
            "=====================================================\n",
            "\n",
            "CONFUSION MATRIX\n",
            "Training Confusion_matrix is : \n",
            "[[353  49]\n",
            " [140 258]]\n",
            "Testing Confusion_matrix is : \n",
            "[[84 14]\n",
            " [41 61]]\n"
          ]
        }
      ]
    },
    {
      "cell_type": "markdown",
      "source": [
        "###PREDICT NEW REVIEW WITH THE MODEL"
      ],
      "metadata": {
        "id": "o1PFX3b5B_F2"
      }
    },
    {
      "cell_type": "code",
      "source": [
        "import re\n",
        "from nltk.corpus import stopwords\n",
        "from nltk.stem import PorterStemmer\n",
        "from sklearn.feature_extraction.text import CountVectorizer\n",
        "\n",
        "def predict_sentiment(sample_review):\n",
        "\n",
        "\tsample_review = re.sub(pattern='[^a-zA-Z]',repl=' ',string=sample_review)\n",
        "\tsample_review = sample_review.lower()\n",
        "\tsample_review_words = sample_review.split()\n",
        "\tsample_review_words = [word for word in sample_review_words if not word in set(stopwords.words('english'))]\n",
        "\tps = PorterStemmer()\n",
        "\tfinal_review = [ps.stem(word) for word in sample_review_words]\n",
        "\tfinal_review = ' '.join(final_review)\n",
        "\n",
        "\ttemp = vectorizer.transform([final_review]).toarray()\n",
        "\treturn nb.predict(temp)\n"
      ],
      "metadata": {
        "id": "aWf8fysmtVCB"
      },
      "execution_count": null,
      "outputs": []
    },
    {
      "cell_type": "code",
      "source": [
        "def predict_review(sample_review):\n",
        "\tif predict_sentiment(sample_review):\n",
        "\t\tprint('this is a positive review')\n",
        "\telse:\n",
        "\t\tprint('this is a negative review')\n",
        "\n",
        "\n",
        "sample_review1  = 'Food is Decent bro'\n",
        "sample_review2 = 'Hmm I like Lovely'\n",
        "predict_review(sample_review1)\n",
        "predict_review(sample_review2)\n"
      ],
      "metadata": {
        "colab": {
          "base_uri": "https://localhost:8080/"
        },
        "id": "y910kQAWCIou",
        "outputId": "08797e82-ab2e-48b9-fdb1-b7a9aa0773d6"
      },
      "execution_count": null,
      "outputs": [
        {
          "output_type": "stream",
          "name": "stdout",
          "text": [
            "this is a negative review\n",
            "this is a positive review\n"
          ]
        }
      ]
    },
    {
      "cell_type": "code",
      "source": [],
      "metadata": {
        "id": "PuKGuk9ZI67r"
      },
      "execution_count": null,
      "outputs": []
    },
    {
      "cell_type": "markdown",
      "source": [
        "#MULTINOMIAL NB"
      ],
      "metadata": {
        "id": "_7avYnW1JdAH"
      }
    },
    {
      "cell_type": "code",
      "source": [
        "# Multinomial NB\n",
        "\n",
        "# Fitting Naive Bayes to the Training set\n",
        "from sklearn.naive_bayes import MultinomialNB\n",
        "mnb = MultinomialNB(alpha=0.1)\n",
        "mnb.fit(X_train_array,y_train)"
      ],
      "metadata": {
        "colab": {
          "base_uri": "https://localhost:8080/",
          "height": 74
        },
        "id": "UlM00ygvJhTs",
        "outputId": "ac5b0442-0824-4fd3-d9c8-90e515fd6c22"
      },
      "execution_count": null,
      "outputs": [
        {
          "output_type": "execute_result",
          "data": {
            "text/plain": [
              "MultinomialNB(alpha=0.1)"
            ],
            "text/html": [
              "<style>#sk-container-id-6 {color: black;background-color: white;}#sk-container-id-6 pre{padding: 0;}#sk-container-id-6 div.sk-toggleable {background-color: white;}#sk-container-id-6 label.sk-toggleable__label {cursor: pointer;display: block;width: 100%;margin-bottom: 0;padding: 0.3em;box-sizing: border-box;text-align: center;}#sk-container-id-6 label.sk-toggleable__label-arrow:before {content: \"▸\";float: left;margin-right: 0.25em;color: #696969;}#sk-container-id-6 label.sk-toggleable__label-arrow:hover:before {color: black;}#sk-container-id-6 div.sk-estimator:hover label.sk-toggleable__label-arrow:before {color: black;}#sk-container-id-6 div.sk-toggleable__content {max-height: 0;max-width: 0;overflow: hidden;text-align: left;background-color: #f0f8ff;}#sk-container-id-6 div.sk-toggleable__content pre {margin: 0.2em;color: black;border-radius: 0.25em;background-color: #f0f8ff;}#sk-container-id-6 input.sk-toggleable__control:checked~div.sk-toggleable__content {max-height: 200px;max-width: 100%;overflow: auto;}#sk-container-id-6 input.sk-toggleable__control:checked~label.sk-toggleable__label-arrow:before {content: \"▾\";}#sk-container-id-6 div.sk-estimator input.sk-toggleable__control:checked~label.sk-toggleable__label {background-color: #d4ebff;}#sk-container-id-6 div.sk-label input.sk-toggleable__control:checked~label.sk-toggleable__label {background-color: #d4ebff;}#sk-container-id-6 input.sk-hidden--visually {border: 0;clip: rect(1px 1px 1px 1px);clip: rect(1px, 1px, 1px, 1px);height: 1px;margin: -1px;overflow: hidden;padding: 0;position: absolute;width: 1px;}#sk-container-id-6 div.sk-estimator {font-family: monospace;background-color: #f0f8ff;border: 1px dotted black;border-radius: 0.25em;box-sizing: border-box;margin-bottom: 0.5em;}#sk-container-id-6 div.sk-estimator:hover {background-color: #d4ebff;}#sk-container-id-6 div.sk-parallel-item::after {content: \"\";width: 100%;border-bottom: 1px solid gray;flex-grow: 1;}#sk-container-id-6 div.sk-label:hover label.sk-toggleable__label {background-color: #d4ebff;}#sk-container-id-6 div.sk-serial::before {content: \"\";position: absolute;border-left: 1px solid gray;box-sizing: border-box;top: 0;bottom: 0;left: 50%;z-index: 0;}#sk-container-id-6 div.sk-serial {display: flex;flex-direction: column;align-items: center;background-color: white;padding-right: 0.2em;padding-left: 0.2em;position: relative;}#sk-container-id-6 div.sk-item {position: relative;z-index: 1;}#sk-container-id-6 div.sk-parallel {display: flex;align-items: stretch;justify-content: center;background-color: white;position: relative;}#sk-container-id-6 div.sk-item::before, #sk-container-id-6 div.sk-parallel-item::before {content: \"\";position: absolute;border-left: 1px solid gray;box-sizing: border-box;top: 0;bottom: 0;left: 50%;z-index: -1;}#sk-container-id-6 div.sk-parallel-item {display: flex;flex-direction: column;z-index: 1;position: relative;background-color: white;}#sk-container-id-6 div.sk-parallel-item:first-child::after {align-self: flex-end;width: 50%;}#sk-container-id-6 div.sk-parallel-item:last-child::after {align-self: flex-start;width: 50%;}#sk-container-id-6 div.sk-parallel-item:only-child::after {width: 0;}#sk-container-id-6 div.sk-dashed-wrapped {border: 1px dashed gray;margin: 0 0.4em 0.5em 0.4em;box-sizing: border-box;padding-bottom: 0.4em;background-color: white;}#sk-container-id-6 div.sk-label label {font-family: monospace;font-weight: bold;display: inline-block;line-height: 1.2em;}#sk-container-id-6 div.sk-label-container {text-align: center;}#sk-container-id-6 div.sk-container {/* jupyter's `normalize.less` sets `[hidden] { display: none; }` but bootstrap.min.css set `[hidden] { display: none !important; }` so we also need the `!important` here to be able to override the default hidden behavior on the sphinx rendered scikit-learn.org. See: https://github.com/scikit-learn/scikit-learn/issues/21755 */display: inline-block !important;position: relative;}#sk-container-id-6 div.sk-text-repr-fallback {display: none;}</style><div id=\"sk-container-id-6\" class=\"sk-top-container\"><div class=\"sk-text-repr-fallback\"><pre>MultinomialNB(alpha=0.1)</pre><b>In a Jupyter environment, please rerun this cell to show the HTML representation or trust the notebook. <br />On GitHub, the HTML representation is unable to render, please try loading this page with nbviewer.org.</b></div><div class=\"sk-container\" hidden><div class=\"sk-item\"><div class=\"sk-estimator sk-toggleable\"><input class=\"sk-toggleable__control sk-hidden--visually\" id=\"sk-estimator-id-6\" type=\"checkbox\" checked><label for=\"sk-estimator-id-6\" class=\"sk-toggleable__label sk-toggleable__label-arrow\">MultinomialNB</label><div class=\"sk-toggleable__content\"><pre>MultinomialNB(alpha=0.1)</pre></div></div></div></div></div>"
            ]
          },
          "metadata": {},
          "execution_count": 124
        }
      ]
    },
    {
      "cell_type": "code",
      "source": [
        "y_train_preds_mnb = mnb.predict(X_train_array)\n",
        "y_test_preds_mnb = mnb.predict(X_test_array)"
      ],
      "metadata": {
        "id": "g6DlGiOwJzBX"
      },
      "execution_count": null,
      "outputs": []
    },
    {
      "cell_type": "code",
      "source": [
        "# Accuracy, Precision and Recall\n",
        "from sklearn.metrics import accuracy_score\n",
        "from sklearn.metrics import precision_score\n",
        "from sklearn.metrics import recall_score\n",
        "from sklearn.metrics import f1_score\n",
        "from sklearn.metrics import roc_auc_score\n",
        "from sklearn.metrics import confusion_matrix\n",
        "\n",
        "def print_metrics(actual_training,predicted_training , actual_testing, predicted_testing):\n",
        "\n",
        "\n",
        "    # Training Scores\n",
        "    acc_train = accuracy_score(actual_training,predicted_training)\n",
        "    pre_train = precision_score(actual_training,predicted_training)\n",
        "    recall_train = recall_score(actual_training,predicted_training)\n",
        "    f1_train = f1_score(actual_training,predicted_training)\n",
        "    roc_score_train = roc_auc_score(actual_training,predicted_training)\n",
        "    confmat_train = confusion_matrix(actual_training,predicted_training)\n",
        "\n",
        "    #Testing score\n",
        "    acc_test = accuracy_score(actual_testing,predicted_testing)\n",
        "    pre_test = precision_score(actual_testing,predicted_testing)\n",
        "    recall_test = recall_score(actual_testing,predicted_testing)\n",
        "    f1_test = f1_score(actual_testing,predicted_testing)\n",
        "    roc_score_test = roc_auc_score(actual_testing,predicted_testing)\n",
        "    confmat_test = confusion_matrix(actual_testing,predicted_testing)\n",
        "\n",
        "\n",
        "    print('ACCURACY SCORE')\n",
        "    print('Training accuracy_score is : ',round(acc_train*100,2),\"%\")\n",
        "    print('Testing accuracy_score is : ',round(acc_test*100,2),\"%\")\n",
        "    print('\\n=====================================================\\n')\n",
        "    print('PRECISION SCORE')\n",
        "    print('Training precision_score is : ',round(pre_train*100,2),\"%\")\n",
        "    print('Testing precision_score is : ',round(pre_test*100,2),\"%\")\n",
        "    print('\\n=====================================================\\n')\n",
        "    print('RECALL SCORE')\n",
        "    print('Training recall_score is : ',round(recall_train*100,2),\"%\")\n",
        "    print('Testing recall_score is : ',round(recall_test*100,2),\"%\")\n",
        "    print('\\n=====================================================\\n')\n",
        "    print('F1 SCORE')\n",
        "    print('Training f1_score is : ',round(f1_train*100,2),\"%\")\n",
        "    print('Testing f1_score is : ',round(f1_test*100,2),\"%\")\n",
        "    print('\\n=====================================================\\n')\n",
        "    print('ROC_AUC_SCORE')\n",
        "    print('Training roc_auc_score is : ',round(roc_score_train*100,2),\"%\")\n",
        "    print('Testing roc_auc_score is : ',round(roc_score_test*100,2),\"%\")\n",
        "    print('\\n=====================================================\\n')\n",
        "    print('CONFUSION MATRIX')\n",
        "    print('Training Confusion_matrix is : ')\n",
        "    print(confmat_train)\n",
        "    print('Testing Confusion_matrix is : ')\n",
        "    print(confmat_test)"
      ],
      "metadata": {
        "id": "vzxFk9W2J2uY"
      },
      "execution_count": null,
      "outputs": []
    },
    {
      "cell_type": "code",
      "source": [
        "#Printing the METRICS for the model\n",
        "print_metrics(y_train,y_train_preds_mnb , y_test,y_test_preds_mnb)"
      ],
      "metadata": {
        "colab": {
          "base_uri": "https://localhost:8080/"
        },
        "id": "5JSAqBExKf6A",
        "outputId": "47c17d7e-0783-413b-a12e-72e7ee62f4c1"
      },
      "execution_count": null,
      "outputs": [
        {
          "output_type": "stream",
          "name": "stdout",
          "text": [
            "ACCURACY SCORE\n",
            "Training accuracy_score is :  77.0 %\n",
            "Testing accuracy_score is :  75.5 %\n",
            "\n",
            "=====================================================\n",
            "\n",
            "PRECISION SCORE\n",
            "Training precision_score is :  81.1 %\n",
            "Testing precision_score is :  79.12 %\n",
            "\n",
            "=====================================================\n",
            "\n",
            "RECALL SCORE\n",
            "Training recall_score is :  70.1 %\n",
            "Testing recall_score is :  70.59 %\n",
            "\n",
            "=====================================================\n",
            "\n",
            "F1 SCORE\n",
            "Training f1_score is :  75.2 %\n",
            "Testing f1_score is :  74.61 %\n",
            "\n",
            "=====================================================\n",
            "\n",
            "ROC_AUC_SCORE\n",
            "Training roc_auc_score is :  76.97 %\n",
            "Testing roc_auc_score is :  75.6 %\n",
            "\n",
            "=====================================================\n",
            "\n",
            "CONFUSION MATRIX\n",
            "Training Confusion_matrix is : \n",
            "[[337  65]\n",
            " [119 279]]\n",
            "Testing Confusion_matrix is : \n",
            "[[79 19]\n",
            " [30 72]]\n"
          ]
        }
      ]
    },
    {
      "cell_type": "markdown",
      "source": [
        "### Hyperparameter Tuning for Multinomial NB Classifier"
      ],
      "metadata": {
        "id": "v40H2hFmK4mx"
      }
    },
    {
      "cell_type": "code",
      "source": [
        "#hyperparameter tuning the Naive Bayes Classifier\n",
        "best_accuracy = 0.0\n",
        "alpha_val = 0.0\n",
        "for i in np.arange(0.1,1.1,0.1):\n",
        "\ttemp_classifier_MNB = MultinomialNB(alpha=i)\n",
        "\n",
        "\ttemp_classifier_MNB.fit(X_train_array,y_train)\n",
        "\n",
        "\ttemp_y_pred_MNB = temp_classifier_MNB.predict(X_test_array)\n",
        "\n",
        "\tscore_MNB = accuracy_score(y_test,temp_y_pred_MNB)\n",
        "\n",
        "\tprint(\"Accuracy socre for Alpha={} is: {}%\".format(round(i,1),round(score_MNB*100,2)))\n",
        "\tif score_MNB>best_accuracy:\n",
        "\t\tbest_accuracy = score_MNB\n",
        "\t\talpha_val = i\n",
        "print('-------------------------------------------')\n",
        "print('The best accuracy is {}% with alpha value as {}'.format(round(best_accuracy*100,2),round(alpha_val,1)))\n"
      ],
      "metadata": {
        "colab": {
          "base_uri": "https://localhost:8080/"
        },
        "id": "MF1f5YAGKfsA",
        "outputId": "ca9d08a5-2600-4610-b5da-f2c2764255c6"
      },
      "execution_count": null,
      "outputs": [
        {
          "output_type": "stream",
          "name": "stdout",
          "text": [
            "Accuracy socre for Alpha=0.1 is: 75.5%\n",
            "Accuracy socre for Alpha=0.2 is: 75.0%\n",
            "Accuracy socre for Alpha=0.3 is: 74.0%\n",
            "Accuracy socre for Alpha=0.4 is: 74.5%\n",
            "Accuracy socre for Alpha=0.5 is: 74.5%\n",
            "Accuracy socre for Alpha=0.6 is: 74.5%\n",
            "Accuracy socre for Alpha=0.7 is: 74.5%\n",
            "Accuracy socre for Alpha=0.8 is: 74.5%\n",
            "Accuracy socre for Alpha=0.9 is: 74.5%\n",
            "Accuracy socre for Alpha=1.0 is: 74.5%\n",
            "-------------------------------------------\n",
            "The best accuracy is 75.5% with alpha value as 0.1\n"
          ]
        }
      ]
    },
    {
      "cell_type": "markdown",
      "source": [
        "###PREDICT NEW REVIEW WITH THE MULTINOMIAL NB model"
      ],
      "metadata": {
        "id": "7d-YHM9VMJlb"
      }
    },
    {
      "cell_type": "code",
      "source": [
        "import re\n",
        "from nltk.corpus import stopwords\n",
        "from nltk.stem import PorterStemmer\n",
        "from sklearn.feature_extraction.text import CountVectorizer\n",
        "\n",
        "def predict_sentiment(sample_review):\n",
        "\n",
        "\tsample_review = re.sub(pattern='[^a-zA-Z]',repl=' ',string=sample_review)\n",
        "\tsample_review = sample_review.lower()\n",
        "\tsample_review_words = sample_review.split()\n",
        "\tsample_review_words = [word for word in sample_review_words if not word in set(stopwords.words('english'))]\n",
        "\tps = PorterStemmer()\n",
        "\tfinal_review = [ps.stem(word) for word in sample_review_words]\n",
        "\tfinal_review = ' '.join(final_review)\n",
        "\n",
        "\ttemp = vectorizer.transform([final_review]).toarray()\n",
        "\treturn mnb.predict(temp)\n",
        "\n",
        "\n",
        "\n",
        "\n",
        "def predict_review(sample_review):\n",
        "\tif predict_sentiment(sample_review):\n",
        "\t\tprint('this is a positive review')\n",
        "\telse:\n",
        "\t\tprint('this is a negative review')\n",
        "\n",
        "\n",
        "sample_review1  = 'Samma da, food was very nice'\n",
        "sample_review2 = 'Thuu, food is like shit'\n",
        "predict_review(sample_review1)\n",
        "predict_review(sample_review2)\n"
      ],
      "metadata": {
        "colab": {
          "base_uri": "https://localhost:8080/"
        },
        "id": "iTijILqOMNkx",
        "outputId": "60159b11-7fd8-4513-8df5-dacae9d0bee6"
      },
      "execution_count": null,
      "outputs": [
        {
          "output_type": "stream",
          "name": "stdout",
          "text": [
            "this is a positive review\n",
            "this is a negative review\n"
          ]
        }
      ]
    },
    {
      "cell_type": "code",
      "source": [],
      "metadata": {
        "id": "1XIHK__zMg4h"
      },
      "execution_count": null,
      "outputs": []
    },
    {
      "cell_type": "markdown",
      "source": [
        "#BEROUNLLI NAIVE BAYES"
      ],
      "metadata": {
        "id": "PbZyX9rSOm1y"
      }
    },
    {
      "cell_type": "code",
      "source": [
        "# Bernoulli NB\n",
        "\n",
        "# Fitting Bernoulli Naive Bayes to the Training set\n",
        "from sklearn.naive_bayes import BernoulliNB\n",
        "bnb = BernoulliNB(alpha=0.3)\n",
        "bnb.fit(X_train_array, y_train)"
      ],
      "metadata": {
        "colab": {
          "base_uri": "https://localhost:8080/",
          "height": 74
        },
        "id": "xLkK-8rJOqxp",
        "outputId": "d3c09108-28ed-4053-ba3e-d4795c723e89"
      },
      "execution_count": null,
      "outputs": [
        {
          "output_type": "execute_result",
          "data": {
            "text/plain": [
              "BernoulliNB(alpha=0.3)"
            ],
            "text/html": [
              "<style>#sk-container-id-8 {color: black;background-color: white;}#sk-container-id-8 pre{padding: 0;}#sk-container-id-8 div.sk-toggleable {background-color: white;}#sk-container-id-8 label.sk-toggleable__label {cursor: pointer;display: block;width: 100%;margin-bottom: 0;padding: 0.3em;box-sizing: border-box;text-align: center;}#sk-container-id-8 label.sk-toggleable__label-arrow:before {content: \"▸\";float: left;margin-right: 0.25em;color: #696969;}#sk-container-id-8 label.sk-toggleable__label-arrow:hover:before {color: black;}#sk-container-id-8 div.sk-estimator:hover label.sk-toggleable__label-arrow:before {color: black;}#sk-container-id-8 div.sk-toggleable__content {max-height: 0;max-width: 0;overflow: hidden;text-align: left;background-color: #f0f8ff;}#sk-container-id-8 div.sk-toggleable__content pre {margin: 0.2em;color: black;border-radius: 0.25em;background-color: #f0f8ff;}#sk-container-id-8 input.sk-toggleable__control:checked~div.sk-toggleable__content {max-height: 200px;max-width: 100%;overflow: auto;}#sk-container-id-8 input.sk-toggleable__control:checked~label.sk-toggleable__label-arrow:before {content: \"▾\";}#sk-container-id-8 div.sk-estimator input.sk-toggleable__control:checked~label.sk-toggleable__label {background-color: #d4ebff;}#sk-container-id-8 div.sk-label input.sk-toggleable__control:checked~label.sk-toggleable__label {background-color: #d4ebff;}#sk-container-id-8 input.sk-hidden--visually {border: 0;clip: rect(1px 1px 1px 1px);clip: rect(1px, 1px, 1px, 1px);height: 1px;margin: -1px;overflow: hidden;padding: 0;position: absolute;width: 1px;}#sk-container-id-8 div.sk-estimator {font-family: monospace;background-color: #f0f8ff;border: 1px dotted black;border-radius: 0.25em;box-sizing: border-box;margin-bottom: 0.5em;}#sk-container-id-8 div.sk-estimator:hover {background-color: #d4ebff;}#sk-container-id-8 div.sk-parallel-item::after {content: \"\";width: 100%;border-bottom: 1px solid gray;flex-grow: 1;}#sk-container-id-8 div.sk-label:hover label.sk-toggleable__label {background-color: #d4ebff;}#sk-container-id-8 div.sk-serial::before {content: \"\";position: absolute;border-left: 1px solid gray;box-sizing: border-box;top: 0;bottom: 0;left: 50%;z-index: 0;}#sk-container-id-8 div.sk-serial {display: flex;flex-direction: column;align-items: center;background-color: white;padding-right: 0.2em;padding-left: 0.2em;position: relative;}#sk-container-id-8 div.sk-item {position: relative;z-index: 1;}#sk-container-id-8 div.sk-parallel {display: flex;align-items: stretch;justify-content: center;background-color: white;position: relative;}#sk-container-id-8 div.sk-item::before, #sk-container-id-8 div.sk-parallel-item::before {content: \"\";position: absolute;border-left: 1px solid gray;box-sizing: border-box;top: 0;bottom: 0;left: 50%;z-index: -1;}#sk-container-id-8 div.sk-parallel-item {display: flex;flex-direction: column;z-index: 1;position: relative;background-color: white;}#sk-container-id-8 div.sk-parallel-item:first-child::after {align-self: flex-end;width: 50%;}#sk-container-id-8 div.sk-parallel-item:last-child::after {align-self: flex-start;width: 50%;}#sk-container-id-8 div.sk-parallel-item:only-child::after {width: 0;}#sk-container-id-8 div.sk-dashed-wrapped {border: 1px dashed gray;margin: 0 0.4em 0.5em 0.4em;box-sizing: border-box;padding-bottom: 0.4em;background-color: white;}#sk-container-id-8 div.sk-label label {font-family: monospace;font-weight: bold;display: inline-block;line-height: 1.2em;}#sk-container-id-8 div.sk-label-container {text-align: center;}#sk-container-id-8 div.sk-container {/* jupyter's `normalize.less` sets `[hidden] { display: none; }` but bootstrap.min.css set `[hidden] { display: none !important; }` so we also need the `!important` here to be able to override the default hidden behavior on the sphinx rendered scikit-learn.org. See: https://github.com/scikit-learn/scikit-learn/issues/21755 */display: inline-block !important;position: relative;}#sk-container-id-8 div.sk-text-repr-fallback {display: none;}</style><div id=\"sk-container-id-8\" class=\"sk-top-container\"><div class=\"sk-text-repr-fallback\"><pre>BernoulliNB(alpha=0.3)</pre><b>In a Jupyter environment, please rerun this cell to show the HTML representation or trust the notebook. <br />On GitHub, the HTML representation is unable to render, please try loading this page with nbviewer.org.</b></div><div class=\"sk-container\" hidden><div class=\"sk-item\"><div class=\"sk-estimator sk-toggleable\"><input class=\"sk-toggleable__control sk-hidden--visually\" id=\"sk-estimator-id-8\" type=\"checkbox\" checked><label for=\"sk-estimator-id-8\" class=\"sk-toggleable__label sk-toggleable__label-arrow\">BernoulliNB</label><div class=\"sk-toggleable__content\"><pre>BernoulliNB(alpha=0.3)</pre></div></div></div></div></div>"
            ]
          },
          "metadata": {},
          "execution_count": 134
        }
      ]
    },
    {
      "cell_type": "code",
      "source": [
        "y_train_preds_bnb = bnb.predict(X_train_array)\n",
        "y_test_preds_bnb = bnb.predict(X_test_array)"
      ],
      "metadata": {
        "id": "cpUIqEFAPJxi"
      },
      "execution_count": null,
      "outputs": []
    },
    {
      "cell_type": "code",
      "source": [
        "# Accuracy, Precision and Recall\n",
        "from sklearn.metrics import accuracy_score\n",
        "from sklearn.metrics import precision_score\n",
        "from sklearn.metrics import recall_score\n",
        "from sklearn.metrics import f1_score\n",
        "from sklearn.metrics import roc_auc_score\n",
        "from sklearn.metrics import confusion_matrix\n",
        "\n",
        "def print_metrics(actual_training,predicted_training , actual_testing, predicted_testing):\n",
        "\n",
        "\n",
        "    # Training Scores\n",
        "    acc_train = accuracy_score(actual_training,predicted_training)\n",
        "    pre_train = precision_score(actual_training,predicted_training)\n",
        "    recall_train = recall_score(actual_training,predicted_training)\n",
        "    f1_train = f1_score(actual_training,predicted_training)\n",
        "    roc_score_train = roc_auc_score(actual_training,predicted_training)\n",
        "    confmat_train = confusion_matrix(actual_training,predicted_training)\n",
        "\n",
        "    #Testing score\n",
        "    acc_test = accuracy_score(actual_testing,predicted_testing)\n",
        "    pre_test = precision_score(actual_testing,predicted_testing)\n",
        "    recall_test = recall_score(actual_testing,predicted_testing)\n",
        "    f1_test = f1_score(actual_testing,predicted_testing)\n",
        "    roc_score_test = roc_auc_score(actual_testing,predicted_testing)\n",
        "    confmat_test = confusion_matrix(actual_testing,predicted_testing)\n",
        "\n",
        "\n",
        "    print('ACCURACY SCORE')\n",
        "    print('Training accuracy_score is : ',round(acc_train*100,2),\"%\")\n",
        "    print('Testing accuracy_score is : ',round(acc_test*100,2),\"%\")\n",
        "    print('\\n=====================================================\\n')\n",
        "    print('PRECISION SCORE')\n",
        "    print('Training precision_score is : ',round(pre_train*100,2),\"%\")\n",
        "    print('Testing precision_score is : ',round(pre_test*100,2),\"%\")\n",
        "    print('\\n=====================================================\\n')\n",
        "    print('RECALL SCORE')\n",
        "    print('Training recall_score is : ',round(recall_train*100,2),\"%\")\n",
        "    print('Testing recall_score is : ',round(recall_test*100,2),\"%\")\n",
        "    print('\\n=====================================================\\n')\n",
        "    print('F1 SCORE')\n",
        "    print('Training f1_score is : ',round(f1_train*100,2),\"%\")\n",
        "    print('Testing f1_score is : ',round(f1_test*100,2),\"%\")\n",
        "    print('\\n=====================================================\\n')\n",
        "    print('ROC_AUC_SCORE')\n",
        "    print('Training roc_auc_score is : ',round(roc_score_train*100,2),\"%\")\n",
        "    print('Testing roc_auc_score is : ',round(roc_score_test*100,2),\"%\")\n",
        "    print('\\n=====================================================\\n')\n",
        "    print('CONFUSION MATRIX')\n",
        "    print('Training Confusion_matrix is : ')\n",
        "    print(confmat_train)\n",
        "    print('Testing Confusion_matrix is : ')\n",
        "    print(confmat_test)"
      ],
      "metadata": {
        "id": "ZeXpQwhCPLf-"
      },
      "execution_count": null,
      "outputs": []
    },
    {
      "cell_type": "code",
      "source": [
        "#Printing the METRICS for the model\n",
        "print_metrics(y_train,y_train_preds_bnb , y_test,y_test_preds_bnb)"
      ],
      "metadata": {
        "colab": {
          "base_uri": "https://localhost:8080/"
        },
        "id": "yWeYnbIZPTLa",
        "outputId": "b892f404-e22b-4cfa-e740-cfda44ac064e"
      },
      "execution_count": null,
      "outputs": [
        {
          "output_type": "stream",
          "name": "stdout",
          "text": [
            "ACCURACY SCORE\n",
            "Training accuracy_score is :  77.25 %\n",
            "Testing accuracy_score is :  76.0 %\n",
            "\n",
            "=====================================================\n",
            "\n",
            "PRECISION SCORE\n",
            "Training precision_score is :  82.53 %\n",
            "Testing precision_score is :  79.35 %\n",
            "\n",
            "=====================================================\n",
            "\n",
            "RECALL SCORE\n",
            "Training recall_score is :  68.84 %\n",
            "Testing recall_score is :  71.57 %\n",
            "\n",
            "=====================================================\n",
            "\n",
            "F1 SCORE\n",
            "Training f1_score is :  75.07 %\n",
            "Testing f1_score is :  75.26 %\n",
            "\n",
            "=====================================================\n",
            "\n",
            "ROC_AUC_SCORE\n",
            "Training roc_auc_score is :  77.21 %\n",
            "Testing roc_auc_score is :  76.09 %\n",
            "\n",
            "=====================================================\n",
            "\n",
            "CONFUSION MATRIX\n",
            "Training Confusion_matrix is : \n",
            "[[344  58]\n",
            " [124 274]]\n",
            "Testing Confusion_matrix is : \n",
            "[[79 19]\n",
            " [29 73]]\n"
          ]
        }
      ]
    },
    {
      "cell_type": "code",
      "source": [],
      "metadata": {
        "id": "F95jutbhPXCl"
      },
      "execution_count": null,
      "outputs": []
    },
    {
      "cell_type": "markdown",
      "source": [
        "### hyperparameter Tuning for Bernoulli NB"
      ],
      "metadata": {
        "id": "4jaiBhEyPwwJ"
      }
    },
    {
      "cell_type": "code",
      "source": [
        "best_accuracy = 0.0\n",
        "alpha_val = 0.0\n",
        "for i in np.arange(0.1,1.1,0.1):\n",
        "\ttemp_classifier_BNB = BernoulliNB(alpha=i)\n",
        "\n",
        "\ttemp_classifier_BNB.fit(X_train_array,y_train)\n",
        "\n",
        "\ttemp_y_pred_BNB = temp_classifier_BNB.predict(X_test_array)\n",
        "\n",
        "\tscore_BNB = accuracy_score(y_test,temp_y_pred_BNB)\n",
        "\n",
        "\tprint(\"Accuracy socre for Alpha={} is: {}%\".format(round(i,1),round(score_BNB*100,2)))\n",
        "\tif score_BNB>best_accuracy:\n",
        "\t\tbest_accuracy = score_BNB\n",
        "\t\talpha_val = i\n",
        "print('-------------------------------------------')\n",
        "print('The best accuracy is {}% with alpha value as {}'.format(round(best_accuracy*100,2),round(alpha_val,1)))"
      ],
      "metadata": {
        "colab": {
          "base_uri": "https://localhost:8080/"
        },
        "id": "AEo05KQXP10-",
        "outputId": "c5bf3600-cf32-4c5b-eb71-3535ede748ab"
      },
      "execution_count": null,
      "outputs": [
        {
          "output_type": "stream",
          "name": "stdout",
          "text": [
            "Accuracy socre for Alpha=0.1 is: 75.5%\n",
            "Accuracy socre for Alpha=0.2 is: 75.5%\n",
            "Accuracy socre for Alpha=0.3 is: 76.0%\n",
            "Accuracy socre for Alpha=0.4 is: 76.0%\n",
            "Accuracy socre for Alpha=0.5 is: 76.0%\n",
            "Accuracy socre for Alpha=0.6 is: 76.0%\n",
            "Accuracy socre for Alpha=0.7 is: 75.5%\n",
            "Accuracy socre for Alpha=0.8 is: 75.5%\n",
            "Accuracy socre for Alpha=0.9 is: 75.5%\n",
            "Accuracy socre for Alpha=1.0 is: 75.5%\n",
            "-------------------------------------------\n",
            "The best accuracy is 76.0% with alpha value as 0.3\n"
          ]
        }
      ]
    },
    {
      "cell_type": "code",
      "source": [],
      "metadata": {
        "id": "Z1Vc_JLiQE-S"
      },
      "execution_count": null,
      "outputs": []
    },
    {
      "cell_type": "markdown",
      "source": [
        "### Predict New Review with this Model"
      ],
      "metadata": {
        "id": "YMR4EcNyQMJi"
      }
    },
    {
      "cell_type": "code",
      "source": [
        "import re\n",
        "from nltk.corpus import stopwords\n",
        "from nltk.stem import PorterStemmer\n",
        "from sklearn.feature_extraction.text import CountVectorizer\n",
        "\n",
        "def predict_sentiment(sample_review):\n",
        "\n",
        "\tsample_review = re.sub(pattern='[^a-zA-Z]',repl=' ',string=sample_review)\n",
        "\tsample_review = sample_review.lower()\n",
        "\tsample_review_words = sample_review.split()\n",
        "\tsample_review_words = [word for word in sample_review_words if not word in set(stopwords.words('english'))]\n",
        "\tps = PorterStemmer()\n",
        "\tfinal_review = [ps.stem(word) for word in sample_review_words]\n",
        "\tfinal_review = ' '.join(final_review)\n",
        "\n",
        "\ttemp = vectorizer.transform([final_review]).toarray()\n",
        "\treturn bnb.predict(temp)\n",
        "\n",
        "\n",
        "\n",
        "\n",
        "def predict_review(sample_review):\n",
        "\tif predict_sentiment(sample_review):\n",
        "\t\tprint('this is a positive review')\n",
        "\telse:\n",
        "\t\tprint('this is a negative review')\n",
        "\n",
        "\n",
        "sample_review1  = 'Samma da, food was very nice'\n",
        "sample_review2 = 'Thuu, food is like shit'\n",
        "predict_review(sample_review1)\n",
        "predict_review(sample_review2)"
      ],
      "metadata": {
        "colab": {
          "base_uri": "https://localhost:8080/"
        },
        "id": "8b_mgmxMQPUy",
        "outputId": "ec7b6ed8-8573-44e9-defd-bfeaf0935aaf"
      },
      "execution_count": null,
      "outputs": [
        {
          "output_type": "stream",
          "name": "stdout",
          "text": [
            "this is a positive review\n",
            "this is a negative review\n"
          ]
        }
      ]
    },
    {
      "cell_type": "code",
      "source": [],
      "metadata": {
        "id": "gV_syz2xQX4q"
      },
      "execution_count": null,
      "outputs": []
    },
    {
      "cell_type": "markdown",
      "source": [
        "#Complement Naive Bayes"
      ],
      "metadata": {
        "id": "6QZJzUCqS5C9"
      }
    },
    {
      "cell_type": "code",
      "source": [
        "# Complement NB\n",
        "from sklearn.naive_bayes import ComplementNB\n",
        "\n",
        "# Create a Complement Naive Bayes classifier\n",
        "cnb = ComplementNB(alpha=0.4)\n",
        "\n",
        "# Fit the model on the training data\n",
        "cnb.fit(X_train_array, y_train)"
      ],
      "metadata": {
        "id": "Ckk3qCW0S75D",
        "colab": {
          "base_uri": "https://localhost:8080/",
          "height": 74
        },
        "outputId": "d6a9533c-e9a6-403c-e66b-d8df2982fab0"
      },
      "execution_count": null,
      "outputs": [
        {
          "output_type": "execute_result",
          "data": {
            "text/plain": [
              "ComplementNB(alpha=0.4)"
            ],
            "text/html": [
              "<style>#sk-container-id-10 {color: black;background-color: white;}#sk-container-id-10 pre{padding: 0;}#sk-container-id-10 div.sk-toggleable {background-color: white;}#sk-container-id-10 label.sk-toggleable__label {cursor: pointer;display: block;width: 100%;margin-bottom: 0;padding: 0.3em;box-sizing: border-box;text-align: center;}#sk-container-id-10 label.sk-toggleable__label-arrow:before {content: \"▸\";float: left;margin-right: 0.25em;color: #696969;}#sk-container-id-10 label.sk-toggleable__label-arrow:hover:before {color: black;}#sk-container-id-10 div.sk-estimator:hover label.sk-toggleable__label-arrow:before {color: black;}#sk-container-id-10 div.sk-toggleable__content {max-height: 0;max-width: 0;overflow: hidden;text-align: left;background-color: #f0f8ff;}#sk-container-id-10 div.sk-toggleable__content pre {margin: 0.2em;color: black;border-radius: 0.25em;background-color: #f0f8ff;}#sk-container-id-10 input.sk-toggleable__control:checked~div.sk-toggleable__content {max-height: 200px;max-width: 100%;overflow: auto;}#sk-container-id-10 input.sk-toggleable__control:checked~label.sk-toggleable__label-arrow:before {content: \"▾\";}#sk-container-id-10 div.sk-estimator input.sk-toggleable__control:checked~label.sk-toggleable__label {background-color: #d4ebff;}#sk-container-id-10 div.sk-label input.sk-toggleable__control:checked~label.sk-toggleable__label {background-color: #d4ebff;}#sk-container-id-10 input.sk-hidden--visually {border: 0;clip: rect(1px 1px 1px 1px);clip: rect(1px, 1px, 1px, 1px);height: 1px;margin: -1px;overflow: hidden;padding: 0;position: absolute;width: 1px;}#sk-container-id-10 div.sk-estimator {font-family: monospace;background-color: #f0f8ff;border: 1px dotted black;border-radius: 0.25em;box-sizing: border-box;margin-bottom: 0.5em;}#sk-container-id-10 div.sk-estimator:hover {background-color: #d4ebff;}#sk-container-id-10 div.sk-parallel-item::after {content: \"\";width: 100%;border-bottom: 1px solid gray;flex-grow: 1;}#sk-container-id-10 div.sk-label:hover label.sk-toggleable__label {background-color: #d4ebff;}#sk-container-id-10 div.sk-serial::before {content: \"\";position: absolute;border-left: 1px solid gray;box-sizing: border-box;top: 0;bottom: 0;left: 50%;z-index: 0;}#sk-container-id-10 div.sk-serial {display: flex;flex-direction: column;align-items: center;background-color: white;padding-right: 0.2em;padding-left: 0.2em;position: relative;}#sk-container-id-10 div.sk-item {position: relative;z-index: 1;}#sk-container-id-10 div.sk-parallel {display: flex;align-items: stretch;justify-content: center;background-color: white;position: relative;}#sk-container-id-10 div.sk-item::before, #sk-container-id-10 div.sk-parallel-item::before {content: \"\";position: absolute;border-left: 1px solid gray;box-sizing: border-box;top: 0;bottom: 0;left: 50%;z-index: -1;}#sk-container-id-10 div.sk-parallel-item {display: flex;flex-direction: column;z-index: 1;position: relative;background-color: white;}#sk-container-id-10 div.sk-parallel-item:first-child::after {align-self: flex-end;width: 50%;}#sk-container-id-10 div.sk-parallel-item:last-child::after {align-self: flex-start;width: 50%;}#sk-container-id-10 div.sk-parallel-item:only-child::after {width: 0;}#sk-container-id-10 div.sk-dashed-wrapped {border: 1px dashed gray;margin: 0 0.4em 0.5em 0.4em;box-sizing: border-box;padding-bottom: 0.4em;background-color: white;}#sk-container-id-10 div.sk-label label {font-family: monospace;font-weight: bold;display: inline-block;line-height: 1.2em;}#sk-container-id-10 div.sk-label-container {text-align: center;}#sk-container-id-10 div.sk-container {/* jupyter's `normalize.less` sets `[hidden] { display: none; }` but bootstrap.min.css set `[hidden] { display: none !important; }` so we also need the `!important` here to be able to override the default hidden behavior on the sphinx rendered scikit-learn.org. See: https://github.com/scikit-learn/scikit-learn/issues/21755 */display: inline-block !important;position: relative;}#sk-container-id-10 div.sk-text-repr-fallback {display: none;}</style><div id=\"sk-container-id-10\" class=\"sk-top-container\"><div class=\"sk-text-repr-fallback\"><pre>ComplementNB(alpha=0.4)</pre><b>In a Jupyter environment, please rerun this cell to show the HTML representation or trust the notebook. <br />On GitHub, the HTML representation is unable to render, please try loading this page with nbviewer.org.</b></div><div class=\"sk-container\" hidden><div class=\"sk-item\"><div class=\"sk-estimator sk-toggleable\"><input class=\"sk-toggleable__control sk-hidden--visually\" id=\"sk-estimator-id-10\" type=\"checkbox\" checked><label for=\"sk-estimator-id-10\" class=\"sk-toggleable__label sk-toggleable__label-arrow\">ComplementNB</label><div class=\"sk-toggleable__content\"><pre>ComplementNB(alpha=0.4)</pre></div></div></div></div></div>"
            ]
          },
          "metadata": {},
          "execution_count": 151
        }
      ]
    },
    {
      "cell_type": "code",
      "source": [
        "# Make predictions on the training and test data\n",
        "y_train_preds_cnb = cnb.predict(X_train_array)\n",
        "y_test_preds_cnb = cnb.predict(X_test_array)"
      ],
      "metadata": {
        "id": "Bl508RyKTAFg"
      },
      "execution_count": null,
      "outputs": []
    },
    {
      "cell_type": "code",
      "source": [
        "# Accuracy, Precision and Recall\n",
        "from sklearn.metrics import accuracy_score\n",
        "from sklearn.metrics import precision_score\n",
        "from sklearn.metrics import recall_score\n",
        "from sklearn.metrics import f1_score\n",
        "from sklearn.metrics import roc_auc_score\n",
        "from sklearn.metrics import confusion_matrix\n",
        "\n",
        "def print_metrics(actual_training,predicted_training , actual_testing, predicted_testing):\n",
        "\n",
        "\n",
        "    # Training Scores\n",
        "    acc_train = accuracy_score(actual_training,predicted_training)\n",
        "    pre_train = precision_score(actual_training,predicted_training)\n",
        "    recall_train = recall_score(actual_training,predicted_training)\n",
        "    f1_train = f1_score(actual_training,predicted_training)\n",
        "    roc_score_train = roc_auc_score(actual_training,predicted_training)\n",
        "    confmat_train = confusion_matrix(actual_training,predicted_training)\n",
        "\n",
        "    #Testing score\n",
        "    acc_test = accuracy_score(actual_testing,predicted_testing)\n",
        "    pre_test = precision_score(actual_testing,predicted_testing)\n",
        "    recall_test = recall_score(actual_testing,predicted_testing)\n",
        "    f1_test = f1_score(actual_testing,predicted_testing)\n",
        "    roc_score_test = roc_auc_score(actual_testing,predicted_testing)\n",
        "    confmat_test = confusion_matrix(actual_testing,predicted_testing)\n",
        "\n",
        "\n",
        "    print('ACCURACY SCORE')\n",
        "    print('Training accuracy_score is : ',round(acc_train*100,2),\"%\")\n",
        "    print('Testing accuracy_score is : ',round(acc_test*100,2),\"%\")\n",
        "    print('\\n=====================================================\\n')\n",
        "    print('PRECISION SCORE')\n",
        "    print('Training precision_score is : ',round(pre_train*100,2),\"%\")\n",
        "    print('Testing precision_score is : ',round(pre_test*100,2),\"%\")\n",
        "    print('\\n=====================================================\\n')\n",
        "    print('RECALL SCORE')\n",
        "    print('Training recall_score is : ',round(recall_train*100,2),\"%\")\n",
        "    print('Testing recall_score is : ',round(recall_test*100,2),\"%\")\n",
        "    print('\\n=====================================================\\n')\n",
        "    print('F1 SCORE')\n",
        "    print('Training f1_score is : ',round(f1_train*100,2),\"%\")\n",
        "    print('Testing f1_score is : ',round(f1_test*100,2),\"%\")\n",
        "    print('\\n=====================================================\\n')\n",
        "    print('ROC_AUC_SCORE')\n",
        "    print('Training roc_auc_score is : ',round(roc_score_train*100,2),\"%\")\n",
        "    print('Testing roc_auc_score is : ',round(roc_score_test*100,2),\"%\")\n",
        "    print('\\n=====================================================\\n')\n",
        "    print('CONFUSION MATRIX')\n",
        "    print('Training Confusion_matrix is : ')\n",
        "    print(confmat_train)\n",
        "    print('Testing Confusion_matrix is : ')\n",
        "    print(confmat_test)"
      ],
      "metadata": {
        "id": "xJIWohwUTf8b"
      },
      "execution_count": null,
      "outputs": []
    },
    {
      "cell_type": "code",
      "source": [
        "#Printing the METRICS for the model\n",
        "print_metrics(y_train,y_train_preds_cnb , y_test,y_test_preds_cnb)"
      ],
      "metadata": {
        "colab": {
          "base_uri": "https://localhost:8080/"
        },
        "id": "w8_tRLsZTlKH",
        "outputId": "e9cca2ed-3781-4ab5-b218-d7b02cb663fc"
      },
      "execution_count": null,
      "outputs": [
        {
          "output_type": "stream",
          "name": "stdout",
          "text": [
            "ACCURACY SCORE\n",
            "Training accuracy_score is :  76.62 %\n",
            "Testing accuracy_score is :  75.5 %\n",
            "\n",
            "=====================================================\n",
            "\n",
            "PRECISION SCORE\n",
            "Training precision_score is :  80.4 %\n",
            "Testing precision_score is :  78.49 %\n",
            "\n",
            "=====================================================\n",
            "\n",
            "RECALL SCORE\n",
            "Training recall_score is :  70.1 %\n",
            "Testing recall_score is :  71.57 %\n",
            "\n",
            "=====================================================\n",
            "\n",
            "F1 SCORE\n",
            "Training f1_score is :  74.9 %\n",
            "Testing f1_score is :  74.87 %\n",
            "\n",
            "=====================================================\n",
            "\n",
            "ROC_AUC_SCORE\n",
            "Training roc_auc_score is :  76.59 %\n",
            "Testing roc_auc_score is :  75.58 %\n",
            "\n",
            "=====================================================\n",
            "\n",
            "CONFUSION MATRIX\n",
            "Training Confusion_matrix is : \n",
            "[[334  68]\n",
            " [119 279]]\n",
            "Testing Confusion_matrix is : \n",
            "[[78 20]\n",
            " [29 73]]\n"
          ]
        }
      ]
    },
    {
      "cell_type": "markdown",
      "source": [
        "###Hyperparameter Tuning for Complement NB"
      ],
      "metadata": {
        "id": "7sI1XaTKTsXK"
      }
    },
    {
      "cell_type": "code",
      "source": [
        "best_accuracy = 0.0\n",
        "alpha_val = 0.0\n",
        "for i in np.arange(0.1,1.1,0.1):\n",
        "\ttemp_classifier_CNB = ComplementNB(alpha=i)\n",
        "\n",
        "\ttemp_classifier_CNB.fit(X_train_array,y_train)\n",
        "\n",
        "\ttemp_y_pred_CNB = temp_classifier_CNB.predict(X_test_array)\n",
        "\n",
        "\tscore_CNB = accuracy_score(y_test,temp_y_pred_CNB)\n",
        "\n",
        "\tprint(\"Accuracy socre for Alpha={} is: {}%\".format(round(i,1),round(score_CNB*100,2)))\n",
        "\tif score_CNB>best_accuracy:\n",
        "\t\tbest_accuracy = score_CNB\n",
        "\t\talpha_val = i\n",
        "print('-------------------------------------------')\n",
        "print('The best accuracy is {}% with alpha value as {}'.format(round(best_accuracy*100,2),round(alpha_val,1)))"
      ],
      "metadata": {
        "colab": {
          "base_uri": "https://localhost:8080/"
        },
        "id": "LeTa-L4JTqEu",
        "outputId": "2a6181ab-ba7c-41bb-b5b3-2cb0a3a93fbb"
      },
      "execution_count": null,
      "outputs": [
        {
          "output_type": "stream",
          "name": "stdout",
          "text": [
            "Accuracy socre for Alpha=0.1 is: 75.0%\n",
            "Accuracy socre for Alpha=0.2 is: 75.0%\n",
            "Accuracy socre for Alpha=0.3 is: 75.0%\n",
            "Accuracy socre for Alpha=0.4 is: 75.5%\n",
            "Accuracy socre for Alpha=0.5 is: 75.0%\n",
            "Accuracy socre for Alpha=0.6 is: 74.5%\n",
            "Accuracy socre for Alpha=0.7 is: 74.5%\n",
            "Accuracy socre for Alpha=0.8 is: 74.5%\n",
            "Accuracy socre for Alpha=0.9 is: 74.5%\n",
            "Accuracy socre for Alpha=1.0 is: 75.0%\n",
            "-------------------------------------------\n",
            "The best accuracy is 75.5% with alpha value as 0.4\n"
          ]
        }
      ]
    },
    {
      "cell_type": "markdown",
      "source": [
        "### PREDICTING THE NEW REVIEW WITH THIS MODEL"
      ],
      "metadata": {
        "id": "BLUIPSv8USKZ"
      }
    },
    {
      "cell_type": "code",
      "source": [
        "import re\n",
        "from nltk.corpus import stopwords\n",
        "from nltk.stem import PorterStemmer\n",
        "from sklearn.feature_extraction.text import CountVectorizer\n",
        "\n",
        "def predict_sentiment(sample_review):\n",
        "\n",
        "\tsample_review = re.sub(pattern='[^a-zA-Z]',repl=' ',string=sample_review)\n",
        "\tsample_review = sample_review.lower()\n",
        "\tsample_review_words = sample_review.split()\n",
        "\tsample_review_words = [word for word in sample_review_words if not word in set(stopwords.words('english'))]\n",
        "\tps = PorterStemmer()\n",
        "\tfinal_review = [ps.stem(word) for word in sample_review_words]\n",
        "\tfinal_review = ' '.join(final_review)\n",
        "\n",
        "\ttemp = vectorizer.transform([final_review]).toarray()\n",
        "\treturn cnb.predict(temp)\n",
        "\n",
        "\n",
        "\n",
        "\n",
        "def predict_review(sample_review):\n",
        "\tif predict_sentiment(sample_review):\n",
        "\t\tprint('this is a positive review')\n",
        "\telse:\n",
        "\t\tprint('this is a negative review')\n",
        "\n",
        "\n",
        "sample_review1  = 'Samma da, food was very nice'\n",
        "sample_review2 = 'Thuu, food is like shit'\n",
        "predict_review(sample_review1)\n",
        "predict_review(sample_review2)"
      ],
      "metadata": {
        "colab": {
          "base_uri": "https://localhost:8080/"
        },
        "id": "FYZpEHR1UE4n",
        "outputId": "e03c930c-11f7-4004-e2a6-acb8fbf601b6"
      },
      "execution_count": null,
      "outputs": [
        {
          "output_type": "stream",
          "name": "stdout",
          "text": [
            "this is a positive review\n",
            "this is a negative review\n"
          ]
        }
      ]
    },
    {
      "cell_type": "code",
      "source": [],
      "metadata": {
        "id": "A_y-7KGLUdBz"
      },
      "execution_count": null,
      "outputs": []
    },
    {
      "cell_type": "markdown",
      "source": [
        "#LOGISTIC REGRESSION"
      ],
      "metadata": {
        "id": "WKRk5P9VU7gq"
      }
    },
    {
      "cell_type": "code",
      "source": [
        "# Import the Logistic Regression class\n",
        "from sklearn.linear_model import LogisticRegression\n",
        "lr = LogisticRegression(C=1.0)\n",
        "\n",
        "# Fit the Logistic Regression model to the training data\n",
        "lr.fit(X_train_array, y_train)\n"
      ],
      "metadata": {
        "colab": {
          "base_uri": "https://localhost:8080/",
          "height": 74
        },
        "id": "2AO-LUiEVAgP",
        "outputId": "ab6ed1d3-b845-4f51-ff43-8f4adcba87b3"
      },
      "execution_count": null,
      "outputs": [
        {
          "output_type": "execute_result",
          "data": {
            "text/plain": [
              "LogisticRegression()"
            ],
            "text/html": [
              "<style>#sk-container-id-11 {color: black;background-color: white;}#sk-container-id-11 pre{padding: 0;}#sk-container-id-11 div.sk-toggleable {background-color: white;}#sk-container-id-11 label.sk-toggleable__label {cursor: pointer;display: block;width: 100%;margin-bottom: 0;padding: 0.3em;box-sizing: border-box;text-align: center;}#sk-container-id-11 label.sk-toggleable__label-arrow:before {content: \"▸\";float: left;margin-right: 0.25em;color: #696969;}#sk-container-id-11 label.sk-toggleable__label-arrow:hover:before {color: black;}#sk-container-id-11 div.sk-estimator:hover label.sk-toggleable__label-arrow:before {color: black;}#sk-container-id-11 div.sk-toggleable__content {max-height: 0;max-width: 0;overflow: hidden;text-align: left;background-color: #f0f8ff;}#sk-container-id-11 div.sk-toggleable__content pre {margin: 0.2em;color: black;border-radius: 0.25em;background-color: #f0f8ff;}#sk-container-id-11 input.sk-toggleable__control:checked~div.sk-toggleable__content {max-height: 200px;max-width: 100%;overflow: auto;}#sk-container-id-11 input.sk-toggleable__control:checked~label.sk-toggleable__label-arrow:before {content: \"▾\";}#sk-container-id-11 div.sk-estimator input.sk-toggleable__control:checked~label.sk-toggleable__label {background-color: #d4ebff;}#sk-container-id-11 div.sk-label input.sk-toggleable__control:checked~label.sk-toggleable__label {background-color: #d4ebff;}#sk-container-id-11 input.sk-hidden--visually {border: 0;clip: rect(1px 1px 1px 1px);clip: rect(1px, 1px, 1px, 1px);height: 1px;margin: -1px;overflow: hidden;padding: 0;position: absolute;width: 1px;}#sk-container-id-11 div.sk-estimator {font-family: monospace;background-color: #f0f8ff;border: 1px dotted black;border-radius: 0.25em;box-sizing: border-box;margin-bottom: 0.5em;}#sk-container-id-11 div.sk-estimator:hover {background-color: #d4ebff;}#sk-container-id-11 div.sk-parallel-item::after {content: \"\";width: 100%;border-bottom: 1px solid gray;flex-grow: 1;}#sk-container-id-11 div.sk-label:hover label.sk-toggleable__label {background-color: #d4ebff;}#sk-container-id-11 div.sk-serial::before {content: \"\";position: absolute;border-left: 1px solid gray;box-sizing: border-box;top: 0;bottom: 0;left: 50%;z-index: 0;}#sk-container-id-11 div.sk-serial {display: flex;flex-direction: column;align-items: center;background-color: white;padding-right: 0.2em;padding-left: 0.2em;position: relative;}#sk-container-id-11 div.sk-item {position: relative;z-index: 1;}#sk-container-id-11 div.sk-parallel {display: flex;align-items: stretch;justify-content: center;background-color: white;position: relative;}#sk-container-id-11 div.sk-item::before, #sk-container-id-11 div.sk-parallel-item::before {content: \"\";position: absolute;border-left: 1px solid gray;box-sizing: border-box;top: 0;bottom: 0;left: 50%;z-index: -1;}#sk-container-id-11 div.sk-parallel-item {display: flex;flex-direction: column;z-index: 1;position: relative;background-color: white;}#sk-container-id-11 div.sk-parallel-item:first-child::after {align-self: flex-end;width: 50%;}#sk-container-id-11 div.sk-parallel-item:last-child::after {align-self: flex-start;width: 50%;}#sk-container-id-11 div.sk-parallel-item:only-child::after {width: 0;}#sk-container-id-11 div.sk-dashed-wrapped {border: 1px dashed gray;margin: 0 0.4em 0.5em 0.4em;box-sizing: border-box;padding-bottom: 0.4em;background-color: white;}#sk-container-id-11 div.sk-label label {font-family: monospace;font-weight: bold;display: inline-block;line-height: 1.2em;}#sk-container-id-11 div.sk-label-container {text-align: center;}#sk-container-id-11 div.sk-container {/* jupyter's `normalize.less` sets `[hidden] { display: none; }` but bootstrap.min.css set `[hidden] { display: none !important; }` so we also need the `!important` here to be able to override the default hidden behavior on the sphinx rendered scikit-learn.org. See: https://github.com/scikit-learn/scikit-learn/issues/21755 */display: inline-block !important;position: relative;}#sk-container-id-11 div.sk-text-repr-fallback {display: none;}</style><div id=\"sk-container-id-11\" class=\"sk-top-container\"><div class=\"sk-text-repr-fallback\"><pre>LogisticRegression()</pre><b>In a Jupyter environment, please rerun this cell to show the HTML representation or trust the notebook. <br />On GitHub, the HTML representation is unable to render, please try loading this page with nbviewer.org.</b></div><div class=\"sk-container\" hidden><div class=\"sk-item\"><div class=\"sk-estimator sk-toggleable\"><input class=\"sk-toggleable__control sk-hidden--visually\" id=\"sk-estimator-id-11\" type=\"checkbox\" checked><label for=\"sk-estimator-id-11\" class=\"sk-toggleable__label sk-toggleable__label-arrow\">LogisticRegression</label><div class=\"sk-toggleable__content\"><pre>LogisticRegression()</pre></div></div></div></div></div>"
            ]
          },
          "metadata": {},
          "execution_count": 159
        }
      ]
    },
    {
      "cell_type": "code",
      "source": [
        "# Make predictions on the training and test data\n",
        "y_train_preds_lr = lr.predict(X_train_array)\n",
        "y_test_preds_lr = lr.predict(X_test_array)"
      ],
      "metadata": {
        "id": "IcQFaBzzVRuc"
      },
      "execution_count": null,
      "outputs": []
    },
    {
      "cell_type": "code",
      "source": [
        "# Accuracy, Precision and Recall\n",
        "from sklearn.metrics import accuracy_score\n",
        "from sklearn.metrics import precision_score\n",
        "from sklearn.metrics import recall_score\n",
        "from sklearn.metrics import f1_score\n",
        "from sklearn.metrics import roc_auc_score\n",
        "from sklearn.metrics import confusion_matrix\n",
        "\n",
        "def print_metrics(actual_training,predicted_training , actual_testing, predicted_testing):\n",
        "\n",
        "\n",
        "    # Training Scores\n",
        "    acc_train = accuracy_score(actual_training,predicted_training)\n",
        "    pre_train = precision_score(actual_training,predicted_training)\n",
        "    recall_train = recall_score(actual_training,predicted_training)\n",
        "    f1_train = f1_score(actual_training,predicted_training)\n",
        "    roc_score_train = roc_auc_score(actual_training,predicted_training)\n",
        "    confmat_train = confusion_matrix(actual_training,predicted_training)\n",
        "\n",
        "    #Testing score\n",
        "    acc_test = accuracy_score(actual_testing,predicted_testing)\n",
        "    pre_test = precision_score(actual_testing,predicted_testing)\n",
        "    recall_test = recall_score(actual_testing,predicted_testing)\n",
        "    f1_test = f1_score(actual_testing,predicted_testing)\n",
        "    roc_score_test = roc_auc_score(actual_testing,predicted_testing)\n",
        "    confmat_test = confusion_matrix(actual_testing,predicted_testing)\n",
        "\n",
        "\n",
        "    print('ACCURACY SCORE')\n",
        "    print('Training accuracy_score is : ',round(acc_train*100,2),\"%\")\n",
        "    print('Testing accuracy_score is : ',round(acc_test*100,2),\"%\")\n",
        "    print('\\n=====================================================\\n')\n",
        "    print('PRECISION SCORE')\n",
        "    print('Training precision_score is : ',round(pre_train*100,2),\"%\")\n",
        "    print('Testing precision_score is : ',round(pre_test*100,2),\"%\")\n",
        "    print('\\n=====================================================\\n')\n",
        "    print('RECALL SCORE')\n",
        "    print('Training recall_score is : ',round(recall_train*100,2),\"%\")\n",
        "    print('Testing recall_score is : ',round(recall_test*100,2),\"%\")\n",
        "    print('\\n=====================================================\\n')\n",
        "    print('F1 SCORE')\n",
        "    print('Training f1_score is : ',round(f1_train*100,2),\"%\")\n",
        "    print('Testing f1_score is : ',round(f1_test*100,2),\"%\")\n",
        "    print('\\n=====================================================\\n')\n",
        "    print('ROC_AUC_SCORE')\n",
        "    print('Training roc_auc_score is : ',round(roc_score_train*100,2),\"%\")\n",
        "    print('Testing roc_auc_score is : ',round(roc_score_test*100,2),\"%\")\n",
        "    print('\\n=====================================================\\n')\n",
        "    print('CONFUSION MATRIX')\n",
        "    print('Training Confusion_matrix is : ')\n",
        "    print(confmat_train)\n",
        "    print('Testing Confusion_matrix is : ')\n",
        "    print(confmat_test)"
      ],
      "metadata": {
        "id": "KLvcYLAdVWjr"
      },
      "execution_count": null,
      "outputs": []
    },
    {
      "cell_type": "code",
      "source": [
        "#Printing the METRICS for the model\n",
        "print_metrics(y_train,y_train_preds_lr , y_test,y_test_preds_lr)"
      ],
      "metadata": {
        "colab": {
          "base_uri": "https://localhost:8080/"
        },
        "id": "sck_33EYVaAL",
        "outputId": "405a3bda-9613-4182-a186-ed21ca8de199"
      },
      "execution_count": null,
      "outputs": [
        {
          "output_type": "stream",
          "name": "stdout",
          "text": [
            "ACCURACY SCORE\n",
            "Training accuracy_score is :  78.75 %\n",
            "Testing accuracy_score is :  77.5 %\n",
            "\n",
            "=====================================================\n",
            "\n",
            "PRECISION SCORE\n",
            "Training precision_score is :  85.62 %\n",
            "Testing precision_score is :  80.65 %\n",
            "\n",
            "=====================================================\n",
            "\n",
            "RECALL SCORE\n",
            "Training recall_score is :  68.84 %\n",
            "Testing recall_score is :  73.53 %\n",
            "\n",
            "=====================================================\n",
            "\n",
            "F1 SCORE\n",
            "Training f1_score is :  76.32 %\n",
            "Testing f1_score is :  76.92 %\n",
            "\n",
            "=====================================================\n",
            "\n",
            "ROC_AUC_SCORE\n",
            "Training roc_auc_score is :  78.7 %\n",
            "Testing roc_auc_score is :  77.58 %\n",
            "\n",
            "=====================================================\n",
            "\n",
            "CONFUSION MATRIX\n",
            "Training Confusion_matrix is : \n",
            "[[356  46]\n",
            " [124 274]]\n",
            "Testing Confusion_matrix is : \n",
            "[[80 18]\n",
            " [27 75]]\n"
          ]
        }
      ]
    },
    {
      "cell_type": "markdown",
      "source": [
        "###Hyperparameter Tuning for Logistic Regression"
      ],
      "metadata": {
        "id": "WBChHa1oVkDD"
      }
    },
    {
      "cell_type": "code",
      "source": [
        "best_accuracy = 0.0\n",
        "alpha_val = 0.0\n",
        "for i in np.arange(0.1,1.1,0.1):\n",
        "\ttemp_classifier_LR = LogisticRegression(C=i)\n",
        "\n",
        "\ttemp_classifier_LR.fit(X_train_array,y_train)\n",
        "\n",
        "\ttemp_y_pred_LR = temp_classifier_LR.predict(X_test_array)\n",
        "\n",
        "\tscore_LR = accuracy_score(y_test,temp_y_pred_LR)\n",
        "\n",
        "\tprint(\"Accuracy socre for C={} is: {}%\".format(round(i,1),round(score_LR*100,2)))\n",
        "\tif score_CNB>best_accuracy:\n",
        "\t\tbest_accuracy = score_LR\n",
        "\t\talpha_val = i\n",
        "print('-------------------------------------------')\n",
        "print('The best accuracy is {}% with C value as {}'.format(round(best_accuracy*100,2),round(alpha_val,1)))"
      ],
      "metadata": {
        "colab": {
          "base_uri": "https://localhost:8080/"
        },
        "id": "h5JPGQ77VfbT",
        "outputId": "839ed680-f983-461d-e200-156191389a75"
      },
      "execution_count": null,
      "outputs": [
        {
          "output_type": "stream",
          "name": "stdout",
          "text": [
            "Accuracy socre for C=0.1 is: 75.5%\n",
            "Accuracy socre for C=0.2 is: 76.5%\n",
            "Accuracy socre for C=0.3 is: 77.0%\n",
            "Accuracy socre for C=0.4 is: 77.0%\n",
            "Accuracy socre for C=0.5 is: 77.0%\n",
            "Accuracy socre for C=0.6 is: 77.0%\n",
            "Accuracy socre for C=0.7 is: 77.0%\n",
            "Accuracy socre for C=0.8 is: 77.5%\n",
            "Accuracy socre for C=0.9 is: 77.5%\n",
            "Accuracy socre for C=1.0 is: 77.5%\n",
            "-------------------------------------------\n",
            "The best accuracy is 75.5% with C value as 0.1\n"
          ]
        }
      ]
    },
    {
      "cell_type": "markdown",
      "source": [
        "###PREDICTING WITH CUSTOM REVIEW WITH THIS MODEL"
      ],
      "metadata": {
        "id": "_4BHe_g9WS5L"
      }
    },
    {
      "cell_type": "code",
      "source": [
        "import re\n",
        "from nltk.corpus import stopwords\n",
        "from nltk.stem import PorterStemmer\n",
        "from sklearn.feature_extraction.text import CountVectorizer\n",
        "\n",
        "def predict_sentiment(sample_review):\n",
        "\n",
        "\tsample_review = re.sub(pattern='[^a-zA-Z]',repl=' ',string=sample_review)\n",
        "\tsample_review = sample_review.lower()\n",
        "\tsample_review_words = sample_review.split()\n",
        "\tsample_review_words = [word for word in sample_review_words if not word in set(stopwords.words('english'))]\n",
        "\tps = PorterStemmer()\n",
        "\tfinal_review = [ps.stem(word) for word in sample_review_words]\n",
        "\tfinal_review = ' '.join(final_review)\n",
        "\n",
        "\ttemp = vectorizer.transform([final_review]).toarray()\n",
        "\treturn lr.predict(temp)\n",
        "\n",
        "\n",
        "\n",
        "\n",
        "def predict_review(sample_review):\n",
        "\tif predict_sentiment(sample_review):\n",
        "\t\tprint('this is a positive review')\n",
        "\telse:\n",
        "\t\tprint('this is a negative review')\n",
        "\n",
        "\n",
        "sample_review1  = 'Mame, sapadu was fine, they could have kept more side dish'\n",
        "sample_review2 = 'Dei sambar ah da was like dog shit'\n",
        "predict_review(sample_review1)\n",
        "predict_review(sample_review2)"
      ],
      "metadata": {
        "colab": {
          "base_uri": "https://localhost:8080/"
        },
        "id": "btHqpbDlWB-D",
        "outputId": "3a2339a0-a38a-4333-de74-87ec6ba6f9c5"
      },
      "execution_count": null,
      "outputs": [
        {
          "output_type": "stream",
          "name": "stdout",
          "text": [
            "this is a negative review\n",
            "this is a negative review\n"
          ]
        }
      ]
    },
    {
      "cell_type": "markdown",
      "source": [
        "# K NEAREST NEIGHBOUR (KNN)"
      ],
      "metadata": {
        "id": "wYOkfuENXIIT"
      }
    },
    {
      "cell_type": "code",
      "source": [
        "# Import the KNeighborsClassifier class from scikit-learn\n",
        "from sklearn.neighbors import KNeighborsClassifier\n",
        "\n",
        "# Create a KNN classifier with a specified number of neighbors (e.g., n_neighbors=5)\n",
        "knn = KNeighborsClassifier(n_neighbors=3)\n",
        "\n",
        "# Fit the KNN classifier to the training data\n",
        "knn.fit(X_train_array, y_train)"
      ],
      "metadata": {
        "colab": {
          "base_uri": "https://localhost:8080/",
          "height": 74
        },
        "id": "jn6vieWUWvfL",
        "outputId": "f4ac52eb-4823-440d-cd8c-93ef9dfbad17"
      },
      "execution_count": null,
      "outputs": [
        {
          "output_type": "execute_result",
          "data": {
            "text/plain": [
              "KNeighborsClassifier(n_neighbors=3)"
            ],
            "text/html": [
              "<style>#sk-container-id-13 {color: black;background-color: white;}#sk-container-id-13 pre{padding: 0;}#sk-container-id-13 div.sk-toggleable {background-color: white;}#sk-container-id-13 label.sk-toggleable__label {cursor: pointer;display: block;width: 100%;margin-bottom: 0;padding: 0.3em;box-sizing: border-box;text-align: center;}#sk-container-id-13 label.sk-toggleable__label-arrow:before {content: \"▸\";float: left;margin-right: 0.25em;color: #696969;}#sk-container-id-13 label.sk-toggleable__label-arrow:hover:before {color: black;}#sk-container-id-13 div.sk-estimator:hover label.sk-toggleable__label-arrow:before {color: black;}#sk-container-id-13 div.sk-toggleable__content {max-height: 0;max-width: 0;overflow: hidden;text-align: left;background-color: #f0f8ff;}#sk-container-id-13 div.sk-toggleable__content pre {margin: 0.2em;color: black;border-radius: 0.25em;background-color: #f0f8ff;}#sk-container-id-13 input.sk-toggleable__control:checked~div.sk-toggleable__content {max-height: 200px;max-width: 100%;overflow: auto;}#sk-container-id-13 input.sk-toggleable__control:checked~label.sk-toggleable__label-arrow:before {content: \"▾\";}#sk-container-id-13 div.sk-estimator input.sk-toggleable__control:checked~label.sk-toggleable__label {background-color: #d4ebff;}#sk-container-id-13 div.sk-label input.sk-toggleable__control:checked~label.sk-toggleable__label {background-color: #d4ebff;}#sk-container-id-13 input.sk-hidden--visually {border: 0;clip: rect(1px 1px 1px 1px);clip: rect(1px, 1px, 1px, 1px);height: 1px;margin: -1px;overflow: hidden;padding: 0;position: absolute;width: 1px;}#sk-container-id-13 div.sk-estimator {font-family: monospace;background-color: #f0f8ff;border: 1px dotted black;border-radius: 0.25em;box-sizing: border-box;margin-bottom: 0.5em;}#sk-container-id-13 div.sk-estimator:hover {background-color: #d4ebff;}#sk-container-id-13 div.sk-parallel-item::after {content: \"\";width: 100%;border-bottom: 1px solid gray;flex-grow: 1;}#sk-container-id-13 div.sk-label:hover label.sk-toggleable__label {background-color: #d4ebff;}#sk-container-id-13 div.sk-serial::before {content: \"\";position: absolute;border-left: 1px solid gray;box-sizing: border-box;top: 0;bottom: 0;left: 50%;z-index: 0;}#sk-container-id-13 div.sk-serial {display: flex;flex-direction: column;align-items: center;background-color: white;padding-right: 0.2em;padding-left: 0.2em;position: relative;}#sk-container-id-13 div.sk-item {position: relative;z-index: 1;}#sk-container-id-13 div.sk-parallel {display: flex;align-items: stretch;justify-content: center;background-color: white;position: relative;}#sk-container-id-13 div.sk-item::before, #sk-container-id-13 div.sk-parallel-item::before {content: \"\";position: absolute;border-left: 1px solid gray;box-sizing: border-box;top: 0;bottom: 0;left: 50%;z-index: -1;}#sk-container-id-13 div.sk-parallel-item {display: flex;flex-direction: column;z-index: 1;position: relative;background-color: white;}#sk-container-id-13 div.sk-parallel-item:first-child::after {align-self: flex-end;width: 50%;}#sk-container-id-13 div.sk-parallel-item:last-child::after {align-self: flex-start;width: 50%;}#sk-container-id-13 div.sk-parallel-item:only-child::after {width: 0;}#sk-container-id-13 div.sk-dashed-wrapped {border: 1px dashed gray;margin: 0 0.4em 0.5em 0.4em;box-sizing: border-box;padding-bottom: 0.4em;background-color: white;}#sk-container-id-13 div.sk-label label {font-family: monospace;font-weight: bold;display: inline-block;line-height: 1.2em;}#sk-container-id-13 div.sk-label-container {text-align: center;}#sk-container-id-13 div.sk-container {/* jupyter's `normalize.less` sets `[hidden] { display: none; }` but bootstrap.min.css set `[hidden] { display: none !important; }` so we also need the `!important` here to be able to override the default hidden behavior on the sphinx rendered scikit-learn.org. See: https://github.com/scikit-learn/scikit-learn/issues/21755 */display: inline-block !important;position: relative;}#sk-container-id-13 div.sk-text-repr-fallback {display: none;}</style><div id=\"sk-container-id-13\" class=\"sk-top-container\"><div class=\"sk-text-repr-fallback\"><pre>KNeighborsClassifier(n_neighbors=3)</pre><b>In a Jupyter environment, please rerun this cell to show the HTML representation or trust the notebook. <br />On GitHub, the HTML representation is unable to render, please try loading this page with nbviewer.org.</b></div><div class=\"sk-container\" hidden><div class=\"sk-item\"><div class=\"sk-estimator sk-toggleable\"><input class=\"sk-toggleable__control sk-hidden--visually\" id=\"sk-estimator-id-13\" type=\"checkbox\" checked><label for=\"sk-estimator-id-13\" class=\"sk-toggleable__label sk-toggleable__label-arrow\">KNeighborsClassifier</label><div class=\"sk-toggleable__content\"><pre>KNeighborsClassifier(n_neighbors=3)</pre></div></div></div></div></div>"
            ]
          },
          "metadata": {},
          "execution_count": 174
        }
      ]
    },
    {
      "cell_type": "code",
      "source": [
        "# Make predictions on the training set\n",
        "y_train_preds_knn = knn.predict(X_train_array)\n",
        "\n",
        "# Make predictions on the test set\n",
        "y_test_preds_knn = knn.predict(X_test_array)"
      ],
      "metadata": {
        "id": "HHpwtwaCXPAo"
      },
      "execution_count": null,
      "outputs": []
    },
    {
      "cell_type": "code",
      "source": [
        "# Accuracy, Precision and Recall\n",
        "from sklearn.metrics import accuracy_score\n",
        "from sklearn.metrics import precision_score\n",
        "from sklearn.metrics import recall_score\n",
        "from sklearn.metrics import f1_score\n",
        "from sklearn.metrics import roc_auc_score\n",
        "from sklearn.metrics import confusion_matrix\n",
        "\n",
        "def print_metrics(actual_training,predicted_training , actual_testing, predicted_testing):\n",
        "\n",
        "\n",
        "    # Training Scores\n",
        "    acc_train = accuracy_score(actual_training,predicted_training)\n",
        "    pre_train = precision_score(actual_training,predicted_training)\n",
        "    recall_train = recall_score(actual_training,predicted_training)\n",
        "    f1_train = f1_score(actual_training,predicted_training)\n",
        "    roc_score_train = roc_auc_score(actual_training,predicted_training)\n",
        "    confmat_train = confusion_matrix(actual_training,predicted_training)\n",
        "\n",
        "    #Testing score\n",
        "    acc_test = accuracy_score(actual_testing,predicted_testing)\n",
        "    pre_test = precision_score(actual_testing,predicted_testing)\n",
        "    recall_test = recall_score(actual_testing,predicted_testing)\n",
        "    f1_test = f1_score(actual_testing,predicted_testing)\n",
        "    roc_score_test = roc_auc_score(actual_testing,predicted_testing)\n",
        "    confmat_test = confusion_matrix(actual_testing,predicted_testing)\n",
        "\n",
        "\n",
        "    print('ACCURACY SCORE')\n",
        "    print('Training accuracy_score is : ',round(acc_train*100,2),\"%\")\n",
        "    print('Testing accuracy_score is : ',round(acc_test*100,2),\"%\")\n",
        "    print('\\n=====================================================\\n')\n",
        "    print('PRECISION SCORE')\n",
        "    print('Training precision_score is : ',round(pre_train*100,2),\"%\")\n",
        "    print('Testing precision_score is : ',round(pre_test*100,2),\"%\")\n",
        "    print('\\n=====================================================\\n')\n",
        "    print('RECALL SCORE')\n",
        "    print('Training recall_score is : ',round(recall_train*100,2),\"%\")\n",
        "    print('Testing recall_score is : ',round(recall_test*100,2),\"%\")\n",
        "    print('\\n=====================================================\\n')\n",
        "    print('F1 SCORE')\n",
        "    print('Training f1_score is : ',round(f1_train*100,2),\"%\")\n",
        "    print('Testing f1_score is : ',round(f1_test*100,2),\"%\")\n",
        "    print('\\n=====================================================\\n')\n",
        "    print('ROC_AUC_SCORE')\n",
        "    print('Training roc_auc_score is : ',round(roc_score_train*100,2),\"%\")\n",
        "    print('Testing roc_auc_score is : ',round(roc_score_test*100,2),\"%\")\n",
        "    print('\\n=====================================================\\n')\n",
        "    print('CONFUSION MATRIX')\n",
        "    print('Training Confusion_matrix is : ')\n",
        "    print(confmat_train)\n",
        "    print('Testing Confusion_matrix is : ')\n",
        "    print(confmat_test)"
      ],
      "metadata": {
        "id": "HIClqeKQXSSY"
      },
      "execution_count": null,
      "outputs": []
    },
    {
      "cell_type": "code",
      "source": [
        "#Printing the METRICS for the model\n",
        "print_metrics(y_train,y_train_preds_knn , y_test,y_test_preds_knn)"
      ],
      "metadata": {
        "colab": {
          "base_uri": "https://localhost:8080/"
        },
        "id": "6CAuV41lXWwb",
        "outputId": "a3babbb7-60de-4b56-9c97-10526113d8ee"
      },
      "execution_count": null,
      "outputs": [
        {
          "output_type": "stream",
          "name": "stdout",
          "text": [
            "ACCURACY SCORE\n",
            "Training accuracy_score is :  81.25 %\n",
            "Testing accuracy_score is :  72.0 %\n",
            "\n",
            "=====================================================\n",
            "\n",
            "PRECISION SCORE\n",
            "Training precision_score is :  87.58 %\n",
            "Testing precision_score is :  78.75 %\n",
            "\n",
            "=====================================================\n",
            "\n",
            "RECALL SCORE\n",
            "Training recall_score is :  72.61 %\n",
            "Testing recall_score is :  61.76 %\n",
            "\n",
            "=====================================================\n",
            "\n",
            "F1 SCORE\n",
            "Training f1_score is :  79.4 %\n",
            "Testing f1_score is :  69.23 %\n",
            "\n",
            "=====================================================\n",
            "\n",
            "ROC_AUC_SCORE\n",
            "Training roc_auc_score is :  81.21 %\n",
            "Testing roc_auc_score is :  72.21 %\n",
            "\n",
            "=====================================================\n",
            "\n",
            "CONFUSION MATRIX\n",
            "Training Confusion_matrix is : \n",
            "[[361  41]\n",
            " [109 289]]\n",
            "Testing Confusion_matrix is : \n",
            "[[81 17]\n",
            " [39 63]]\n"
          ]
        }
      ]
    },
    {
      "cell_type": "markdown",
      "source": [
        "### Hyperparameter Tuning for KNN"
      ],
      "metadata": {
        "id": "nwsXSAhtXiBa"
      }
    },
    {
      "cell_type": "code",
      "source": [
        "best_accuracy = 0.0\n",
        "alpha_val = 0.0\n",
        "for i in np.arange(1,11,1):\n",
        "\ttemp_classifier_KNN = KNeighborsClassifier(n_neighbors=i)\n",
        "\n",
        "\ttemp_classifier_KNN.fit(X_train_array,y_train)\n",
        "\n",
        "\ttemp_y_pred_KNN = temp_classifier_KNN.predict(X_test_array)\n",
        "\n",
        "\tscore_KNN = accuracy_score(y_test,temp_y_pred_KNN)\n",
        "\n",
        "\tprint(\"Accuracy socre for n_neighbors={} is: {}%\".format(round(i,1),round(score_KNN*100,2)))\n",
        "\tif score_KNN>best_accuracy:\n",
        "\t\tbest_accuracy = score_KNN\n",
        "\t\talpha_val = i\n",
        "print('-------------------------------------------')\n",
        "print('The best accuracy is {}% with n_neighbors value as {}'.format(round(best_accuracy*100,2),round(alpha_val,1)))"
      ],
      "metadata": {
        "colab": {
          "base_uri": "https://localhost:8080/"
        },
        "id": "wNvbbhIUXdH1",
        "outputId": "82ecd560-b967-4aa1-d90d-0e7b1eadc3e2"
      },
      "execution_count": null,
      "outputs": [
        {
          "output_type": "stream",
          "name": "stdout",
          "text": [
            "Accuracy socre for n_neighbors=1 is: 67.5%\n",
            "Accuracy socre for n_neighbors=2 is: 66.5%\n",
            "Accuracy socre for n_neighbors=3 is: 72.0%\n",
            "Accuracy socre for n_neighbors=4 is: 63.0%\n",
            "Accuracy socre for n_neighbors=5 is: 67.5%\n",
            "Accuracy socre for n_neighbors=6 is: 65.5%\n",
            "Accuracy socre for n_neighbors=7 is: 67.0%\n",
            "Accuracy socre for n_neighbors=8 is: 65.5%\n",
            "Accuracy socre for n_neighbors=9 is: 69.5%\n",
            "Accuracy socre for n_neighbors=10 is: 69.0%\n",
            "-------------------------------------------\n",
            "The best accuracy is 72.0% with n_neighbors value as 3\n"
          ]
        }
      ]
    },
    {
      "cell_type": "code",
      "source": [],
      "metadata": {
        "id": "Mi7_sbK-X9DP"
      },
      "execution_count": null,
      "outputs": []
    },
    {
      "cell_type": "markdown",
      "source": [
        "### PREDICTING NEW REVIEW WITH KNN"
      ],
      "metadata": {
        "id": "aGKpBC3SYcpG"
      }
    },
    {
      "cell_type": "code",
      "source": [
        "import re\n",
        "from nltk.corpus import stopwords\n",
        "from nltk.stem import PorterStemmer\n",
        "from sklearn.feature_extraction.text import CountVectorizer\n",
        "\n",
        "def predict_sentiment(sample_review):\n",
        "\n",
        "\tsample_review = re.sub(pattern='[^a-zA-Z]',repl=' ',string=sample_review)\n",
        "\tsample_review = sample_review.lower()\n",
        "\tsample_review_words = sample_review.split()\n",
        "\tsample_review_words = [word for word in sample_review_words if not word in set(stopwords.words('english'))]\n",
        "\tps = PorterStemmer()\n",
        "\tfinal_review = [ps.stem(word) for word in sample_review_words]\n",
        "\tfinal_review = ' '.join(final_review)\n",
        "\n",
        "\ttemp = vectorizer.transform([final_review]).toarray()\n",
        "\treturn knn.predict(temp)\n",
        "\n",
        "\n",
        "\n",
        "\n",
        "def predict_review(sample_review):\n",
        "\tif predict_sentiment(sample_review):\n",
        "\t\tprint('this is a positive review')\n",
        "\telse:\n",
        "\t\tprint('this is a negative review')\n",
        "\n",
        "\n",
        "sample_review_knn = 'I am going to be honest , the food was bad , sorry'\n",
        "predict_review(sample_review_knn)\n"
      ],
      "metadata": {
        "colab": {
          "base_uri": "https://localhost:8080/"
        },
        "id": "PmMcMVbGYgZ7",
        "outputId": "aa534ee5-19c0-47cf-a24d-94ed79e4c8fc"
      },
      "execution_count": null,
      "outputs": [
        {
          "output_type": "stream",
          "name": "stdout",
          "text": [
            "this is a negative review\n"
          ]
        }
      ]
    },
    {
      "cell_type": "code",
      "source": [],
      "metadata": {
        "id": "DBIWuceDY0fI"
      },
      "execution_count": null,
      "outputs": []
    },
    {
      "cell_type": "markdown",
      "source": [
        "#DECISION TREES"
      ],
      "metadata": {
        "id": "5estfBa0fG4E"
      }
    },
    {
      "cell_type": "code",
      "source": [
        "# Import the Decision Tree classifier\n",
        "from sklearn.tree import DecisionTreeClassifier\n",
        "\n",
        "\n",
        "dt = DecisionTreeClassifier(max_depth=11, random_state=14)\n",
        "\n",
        "# Fit the Decision Tree classifier to the training data\n",
        "dt.fit(X_train_array, y_train)"
      ],
      "metadata": {
        "colab": {
          "base_uri": "https://localhost:8080/",
          "height": 74
        },
        "id": "0JnAEDvYeRVq",
        "outputId": "d2bfe5f7-8905-44f6-b509-b5e6c5e2121c"
      },
      "execution_count": null,
      "outputs": [
        {
          "output_type": "execute_result",
          "data": {
            "text/plain": [
              "DecisionTreeClassifier(max_depth=11, random_state=14)"
            ],
            "text/html": [
              "<style>#sk-container-id-30 {color: black;background-color: white;}#sk-container-id-30 pre{padding: 0;}#sk-container-id-30 div.sk-toggleable {background-color: white;}#sk-container-id-30 label.sk-toggleable__label {cursor: pointer;display: block;width: 100%;margin-bottom: 0;padding: 0.3em;box-sizing: border-box;text-align: center;}#sk-container-id-30 label.sk-toggleable__label-arrow:before {content: \"▸\";float: left;margin-right: 0.25em;color: #696969;}#sk-container-id-30 label.sk-toggleable__label-arrow:hover:before {color: black;}#sk-container-id-30 div.sk-estimator:hover label.sk-toggleable__label-arrow:before {color: black;}#sk-container-id-30 div.sk-toggleable__content {max-height: 0;max-width: 0;overflow: hidden;text-align: left;background-color: #f0f8ff;}#sk-container-id-30 div.sk-toggleable__content pre {margin: 0.2em;color: black;border-radius: 0.25em;background-color: #f0f8ff;}#sk-container-id-30 input.sk-toggleable__control:checked~div.sk-toggleable__content {max-height: 200px;max-width: 100%;overflow: auto;}#sk-container-id-30 input.sk-toggleable__control:checked~label.sk-toggleable__label-arrow:before {content: \"▾\";}#sk-container-id-30 div.sk-estimator input.sk-toggleable__control:checked~label.sk-toggleable__label {background-color: #d4ebff;}#sk-container-id-30 div.sk-label input.sk-toggleable__control:checked~label.sk-toggleable__label {background-color: #d4ebff;}#sk-container-id-30 input.sk-hidden--visually {border: 0;clip: rect(1px 1px 1px 1px);clip: rect(1px, 1px, 1px, 1px);height: 1px;margin: -1px;overflow: hidden;padding: 0;position: absolute;width: 1px;}#sk-container-id-30 div.sk-estimator {font-family: monospace;background-color: #f0f8ff;border: 1px dotted black;border-radius: 0.25em;box-sizing: border-box;margin-bottom: 0.5em;}#sk-container-id-30 div.sk-estimator:hover {background-color: #d4ebff;}#sk-container-id-30 div.sk-parallel-item::after {content: \"\";width: 100%;border-bottom: 1px solid gray;flex-grow: 1;}#sk-container-id-30 div.sk-label:hover label.sk-toggleable__label {background-color: #d4ebff;}#sk-container-id-30 div.sk-serial::before {content: \"\";position: absolute;border-left: 1px solid gray;box-sizing: border-box;top: 0;bottom: 0;left: 50%;z-index: 0;}#sk-container-id-30 div.sk-serial {display: flex;flex-direction: column;align-items: center;background-color: white;padding-right: 0.2em;padding-left: 0.2em;position: relative;}#sk-container-id-30 div.sk-item {position: relative;z-index: 1;}#sk-container-id-30 div.sk-parallel {display: flex;align-items: stretch;justify-content: center;background-color: white;position: relative;}#sk-container-id-30 div.sk-item::before, #sk-container-id-30 div.sk-parallel-item::before {content: \"\";position: absolute;border-left: 1px solid gray;box-sizing: border-box;top: 0;bottom: 0;left: 50%;z-index: -1;}#sk-container-id-30 div.sk-parallel-item {display: flex;flex-direction: column;z-index: 1;position: relative;background-color: white;}#sk-container-id-30 div.sk-parallel-item:first-child::after {align-self: flex-end;width: 50%;}#sk-container-id-30 div.sk-parallel-item:last-child::after {align-self: flex-start;width: 50%;}#sk-container-id-30 div.sk-parallel-item:only-child::after {width: 0;}#sk-container-id-30 div.sk-dashed-wrapped {border: 1px dashed gray;margin: 0 0.4em 0.5em 0.4em;box-sizing: border-box;padding-bottom: 0.4em;background-color: white;}#sk-container-id-30 div.sk-label label {font-family: monospace;font-weight: bold;display: inline-block;line-height: 1.2em;}#sk-container-id-30 div.sk-label-container {text-align: center;}#sk-container-id-30 div.sk-container {/* jupyter's `normalize.less` sets `[hidden] { display: none; }` but bootstrap.min.css set `[hidden] { display: none !important; }` so we also need the `!important` here to be able to override the default hidden behavior on the sphinx rendered scikit-learn.org. See: https://github.com/scikit-learn/scikit-learn/issues/21755 */display: inline-block !important;position: relative;}#sk-container-id-30 div.sk-text-repr-fallback {display: none;}</style><div id=\"sk-container-id-30\" class=\"sk-top-container\"><div class=\"sk-text-repr-fallback\"><pre>DecisionTreeClassifier(max_depth=11, random_state=14)</pre><b>In a Jupyter environment, please rerun this cell to show the HTML representation or trust the notebook. <br />On GitHub, the HTML representation is unable to render, please try loading this page with nbviewer.org.</b></div><div class=\"sk-container\" hidden><div class=\"sk-item\"><div class=\"sk-estimator sk-toggleable\"><input class=\"sk-toggleable__control sk-hidden--visually\" id=\"sk-estimator-id-30\" type=\"checkbox\" checked><label for=\"sk-estimator-id-30\" class=\"sk-toggleable__label sk-toggleable__label-arrow\">DecisionTreeClassifier</label><div class=\"sk-toggleable__content\"><pre>DecisionTreeClassifier(max_depth=11, random_state=14)</pre></div></div></div></div></div>"
            ]
          },
          "metadata": {},
          "execution_count": 256
        }
      ]
    },
    {
      "cell_type": "code",
      "source": [
        "# Make predictions on the training set\n",
        "y_train_preds_dt = dt.predict(X_train_array)\n",
        "\n",
        "# Make predictions on the test set\n",
        "y_test_preds_dt = dt.predict(X_test_array)"
      ],
      "metadata": {
        "id": "YNDGVkOsfMtJ"
      },
      "execution_count": null,
      "outputs": []
    },
    {
      "cell_type": "code",
      "source": [
        "# Accuracy, Precision and Recall\n",
        "from sklearn.metrics import accuracy_score\n",
        "from sklearn.metrics import precision_score\n",
        "from sklearn.metrics import recall_score\n",
        "from sklearn.metrics import f1_score\n",
        "from sklearn.metrics import roc_auc_score\n",
        "from sklearn.metrics import confusion_matrix\n",
        "\n",
        "def print_metrics(actual_training,predicted_training , actual_testing, predicted_testing):\n",
        "\n",
        "\n",
        "    # Training Scores\n",
        "    acc_train = accuracy_score(actual_training,predicted_training)\n",
        "    pre_train = precision_score(actual_training,predicted_training)\n",
        "    recall_train = recall_score(actual_training,predicted_training)\n",
        "    f1_train = f1_score(actual_training,predicted_training)\n",
        "    roc_score_train = roc_auc_score(actual_training,predicted_training)\n",
        "    confmat_train = confusion_matrix(actual_training,predicted_training)\n",
        "\n",
        "    #Testing score\n",
        "    acc_test = accuracy_score(actual_testing,predicted_testing)\n",
        "    pre_test = precision_score(actual_testing,predicted_testing)\n",
        "    recall_test = recall_score(actual_testing,predicted_testing)\n",
        "    f1_test = f1_score(actual_testing,predicted_testing)\n",
        "    roc_score_test = roc_auc_score(actual_testing,predicted_testing)\n",
        "    confmat_test = confusion_matrix(actual_testing,predicted_testing)\n",
        "\n",
        "\n",
        "    print('ACCURACY SCORE')\n",
        "    print('Training accuracy_score is : ',round(acc_train*100,2),\"%\")\n",
        "    print('Testing accuracy_score is : ',round(acc_test*100,2),\"%\")\n",
        "    print('\\n=====================================================\\n')\n",
        "    print('PRECISION SCORE')\n",
        "    print('Training precision_score is : ',round(pre_train*100,2),\"%\")\n",
        "    print('Testing precision_score is : ',round(pre_test*100,2),\"%\")\n",
        "    print('\\n=====================================================\\n')\n",
        "    print('RECALL SCORE')\n",
        "    print('Training recall_score is : ',round(recall_train*100,2),\"%\")\n",
        "    print('Testing recall_score is : ',round(recall_test*100,2),\"%\")\n",
        "    print('\\n=====================================================\\n')\n",
        "    print('F1 SCORE')\n",
        "    print('Training f1_score is : ',round(f1_train*100,2),\"%\")\n",
        "    print('Testing f1_score is : ',round(f1_test*100,2),\"%\")\n",
        "    print('\\n=====================================================\\n')\n",
        "    print('ROC_AUC_SCORE')\n",
        "    print('Training roc_auc_score is : ',round(roc_score_train*100,2),\"%\")\n",
        "    print('Testing roc_auc_score is : ',round(roc_score_test*100,2),\"%\")\n",
        "    print('\\n=====================================================\\n')\n",
        "    print('CONFUSION MATRIX')\n",
        "    print('Training Confusion_matrix is : ')\n",
        "    print(confmat_train)\n",
        "    print('Testing Confusion_matrix is : ')\n",
        "    print(confmat_test)"
      ],
      "metadata": {
        "id": "iAafXMusfXGV"
      },
      "execution_count": null,
      "outputs": []
    },
    {
      "cell_type": "code",
      "source": [
        "#Printing the METRICS for the model\n",
        "print_metrics(y_train,y_train_preds_dt , y_test,y_test_preds_dt)"
      ],
      "metadata": {
        "colab": {
          "base_uri": "https://localhost:8080/"
        },
        "id": "WIrQIh83fapd",
        "outputId": "71f2f9e8-4db9-4796-d7ee-6efe8eda29a4"
      },
      "execution_count": null,
      "outputs": [
        {
          "output_type": "stream",
          "name": "stdout",
          "text": [
            "ACCURACY SCORE\n",
            "Training accuracy_score is :  74.88 %\n",
            "Testing accuracy_score is :  70.0 %\n",
            "\n",
            "=====================================================\n",
            "\n",
            "PRECISION SCORE\n",
            "Training precision_score is :  94.17 %\n",
            "Testing precision_score is :  87.5 %\n",
            "\n",
            "=====================================================\n",
            "\n",
            "RECALL SCORE\n",
            "Training recall_score is :  52.76 %\n",
            "Testing recall_score is :  48.04 %\n",
            "\n",
            "=====================================================\n",
            "\n",
            "F1 SCORE\n",
            "Training f1_score is :  67.63 %\n",
            "Testing f1_score is :  62.03 %\n",
            "\n",
            "=====================================================\n",
            "\n",
            "ROC_AUC_SCORE\n",
            "Training roc_auc_score is :  74.76 %\n",
            "Testing roc_auc_score is :  70.45 %\n",
            "\n",
            "=====================================================\n",
            "\n",
            "CONFUSION MATRIX\n",
            "Training Confusion_matrix is : \n",
            "[[389  13]\n",
            " [188 210]]\n",
            "Testing Confusion_matrix is : \n",
            "[[91  7]\n",
            " [53 49]]\n"
          ]
        }
      ]
    },
    {
      "cell_type": "markdown",
      "source": [
        "### HyperParameter Tuning for Decision Tree"
      ],
      "metadata": {
        "id": "0RXREbWgg7X8"
      }
    },
    {
      "cell_type": "code",
      "source": [
        "best_accuracy = 0.0\n",
        "best_max_depth = 0\n",
        "best_random_state = 0\n",
        "\n",
        "for i in np.arange(3, 10, 1):\n",
        "    for j in np.arange(10, 25, 1):\n",
        "        temp_classifier_DT = DecisionTreeClassifier(max_depth=i, random_state=j)\n",
        "        temp_classifier_DT.fit(X_train_array, y_train)\n",
        "        temp_y_pred_DT = temp_classifier_DT.predict(X_test_array)\n",
        "        score_DT = accuracy_score(y_test, temp_y_pred_DT)\n",
        "        print(\"Accuracy score for max_depth={} and random_state={} is: {}%\".format(round(i, 1), round(j, 1), round(score_RF * 100, 2)))\n",
        "        if score_RF > best_accuracy:\n",
        "            best_accuracy = score_DT\n",
        "            best_max_depth = i\n",
        "            best_random_state = j\n",
        "\n",
        "print('-------------------------------------------')\n",
        "print('The best accuracy is {}% with max_depth={} and random_state={}'.format(round(best_accuracy * 100, 2), best_max_depth, best_random_state))\n"
      ],
      "metadata": {
        "colab": {
          "base_uri": "https://localhost:8080/"
        },
        "id": "XL1MY-Vgfe7V",
        "outputId": "37d584ad-6d08-4466-aa61-32dd3a9f7e99"
      },
      "execution_count": null,
      "outputs": [
        {
          "output_type": "stream",
          "name": "stdout",
          "text": [
            "Accuracy score for max_depth=3 and random_state=10 is: 74.0%\n",
            "Accuracy score for max_depth=3 and random_state=11 is: 74.0%\n",
            "Accuracy score for max_depth=3 and random_state=12 is: 74.0%\n",
            "Accuracy score for max_depth=3 and random_state=13 is: 74.0%\n",
            "Accuracy score for max_depth=3 and random_state=14 is: 74.0%\n",
            "Accuracy score for max_depth=3 and random_state=15 is: 74.0%\n",
            "Accuracy score for max_depth=3 and random_state=16 is: 74.0%\n",
            "Accuracy score for max_depth=3 and random_state=17 is: 74.0%\n",
            "Accuracy score for max_depth=3 and random_state=18 is: 74.0%\n",
            "Accuracy score for max_depth=3 and random_state=19 is: 74.0%\n",
            "Accuracy score for max_depth=3 and random_state=20 is: 74.0%\n",
            "Accuracy score for max_depth=3 and random_state=21 is: 74.0%\n",
            "Accuracy score for max_depth=3 and random_state=22 is: 74.0%\n",
            "Accuracy score for max_depth=3 and random_state=23 is: 74.0%\n",
            "Accuracy score for max_depth=3 and random_state=24 is: 74.0%\n",
            "Accuracy score for max_depth=4 and random_state=10 is: 74.0%\n",
            "Accuracy score for max_depth=4 and random_state=11 is: 74.0%\n",
            "Accuracy score for max_depth=4 and random_state=12 is: 74.0%\n",
            "Accuracy score for max_depth=4 and random_state=13 is: 74.0%\n",
            "Accuracy score for max_depth=4 and random_state=14 is: 74.0%\n",
            "Accuracy score for max_depth=4 and random_state=15 is: 74.0%\n",
            "Accuracy score for max_depth=4 and random_state=16 is: 74.0%\n",
            "Accuracy score for max_depth=4 and random_state=17 is: 74.0%\n",
            "Accuracy score for max_depth=4 and random_state=18 is: 74.0%\n",
            "Accuracy score for max_depth=4 and random_state=19 is: 74.0%\n",
            "Accuracy score for max_depth=4 and random_state=20 is: 74.0%\n",
            "Accuracy score for max_depth=4 and random_state=21 is: 74.0%\n",
            "Accuracy score for max_depth=4 and random_state=22 is: 74.0%\n",
            "Accuracy score for max_depth=4 and random_state=23 is: 74.0%\n",
            "Accuracy score for max_depth=4 and random_state=24 is: 74.0%\n",
            "Accuracy score for max_depth=5 and random_state=10 is: 74.0%\n",
            "Accuracy score for max_depth=5 and random_state=11 is: 74.0%\n",
            "Accuracy score for max_depth=5 and random_state=12 is: 74.0%\n",
            "Accuracy score for max_depth=5 and random_state=13 is: 74.0%\n",
            "Accuracy score for max_depth=5 and random_state=14 is: 74.0%\n",
            "Accuracy score for max_depth=5 and random_state=15 is: 74.0%\n",
            "Accuracy score for max_depth=5 and random_state=16 is: 74.0%\n",
            "Accuracy score for max_depth=5 and random_state=17 is: 74.0%\n",
            "Accuracy score for max_depth=5 and random_state=18 is: 74.0%\n",
            "Accuracy score for max_depth=5 and random_state=19 is: 74.0%\n",
            "Accuracy score for max_depth=5 and random_state=20 is: 74.0%\n",
            "Accuracy score for max_depth=5 and random_state=21 is: 74.0%\n",
            "Accuracy score for max_depth=5 and random_state=22 is: 74.0%\n",
            "Accuracy score for max_depth=5 and random_state=23 is: 74.0%\n",
            "Accuracy score for max_depth=5 and random_state=24 is: 74.0%\n",
            "Accuracy score for max_depth=6 and random_state=10 is: 74.0%\n",
            "Accuracy score for max_depth=6 and random_state=11 is: 74.0%\n",
            "Accuracy score for max_depth=6 and random_state=12 is: 74.0%\n",
            "Accuracy score for max_depth=6 and random_state=13 is: 74.0%\n",
            "Accuracy score for max_depth=6 and random_state=14 is: 74.0%\n",
            "Accuracy score for max_depth=6 and random_state=15 is: 74.0%\n",
            "Accuracy score for max_depth=6 and random_state=16 is: 74.0%\n",
            "Accuracy score for max_depth=6 and random_state=17 is: 74.0%\n",
            "Accuracy score for max_depth=6 and random_state=18 is: 74.0%\n",
            "Accuracy score for max_depth=6 and random_state=19 is: 74.0%\n",
            "Accuracy score for max_depth=6 and random_state=20 is: 74.0%\n",
            "Accuracy score for max_depth=6 and random_state=21 is: 74.0%\n",
            "Accuracy score for max_depth=6 and random_state=22 is: 74.0%\n",
            "Accuracy score for max_depth=6 and random_state=23 is: 74.0%\n",
            "Accuracy score for max_depth=6 and random_state=24 is: 74.0%\n",
            "Accuracy score for max_depth=7 and random_state=10 is: 74.0%\n",
            "Accuracy score for max_depth=7 and random_state=11 is: 74.0%\n",
            "Accuracy score for max_depth=7 and random_state=12 is: 74.0%\n",
            "Accuracy score for max_depth=7 and random_state=13 is: 74.0%\n",
            "Accuracy score for max_depth=7 and random_state=14 is: 74.0%\n",
            "Accuracy score for max_depth=7 and random_state=15 is: 74.0%\n",
            "Accuracy score for max_depth=7 and random_state=16 is: 74.0%\n",
            "Accuracy score for max_depth=7 and random_state=17 is: 74.0%\n",
            "Accuracy score for max_depth=7 and random_state=18 is: 74.0%\n",
            "Accuracy score for max_depth=7 and random_state=19 is: 74.0%\n",
            "Accuracy score for max_depth=7 and random_state=20 is: 74.0%\n",
            "Accuracy score for max_depth=7 and random_state=21 is: 74.0%\n",
            "Accuracy score for max_depth=7 and random_state=22 is: 74.0%\n",
            "Accuracy score for max_depth=7 and random_state=23 is: 74.0%\n",
            "Accuracy score for max_depth=7 and random_state=24 is: 74.0%\n",
            "Accuracy score for max_depth=8 and random_state=10 is: 74.0%\n",
            "Accuracy score for max_depth=8 and random_state=11 is: 74.0%\n",
            "Accuracy score for max_depth=8 and random_state=12 is: 74.0%\n",
            "Accuracy score for max_depth=8 and random_state=13 is: 74.0%\n",
            "Accuracy score for max_depth=8 and random_state=14 is: 74.0%\n",
            "Accuracy score for max_depth=8 and random_state=15 is: 74.0%\n",
            "Accuracy score for max_depth=8 and random_state=16 is: 74.0%\n",
            "Accuracy score for max_depth=8 and random_state=17 is: 74.0%\n",
            "Accuracy score for max_depth=8 and random_state=18 is: 74.0%\n",
            "Accuracy score for max_depth=8 and random_state=19 is: 74.0%\n",
            "Accuracy score for max_depth=8 and random_state=20 is: 74.0%\n",
            "Accuracy score for max_depth=8 and random_state=21 is: 74.0%\n",
            "Accuracy score for max_depth=8 and random_state=22 is: 74.0%\n",
            "Accuracy score for max_depth=8 and random_state=23 is: 74.0%\n",
            "Accuracy score for max_depth=8 and random_state=24 is: 74.0%\n",
            "Accuracy score for max_depth=9 and random_state=10 is: 74.0%\n",
            "Accuracy score for max_depth=9 and random_state=11 is: 74.0%\n",
            "Accuracy score for max_depth=9 and random_state=12 is: 74.0%\n",
            "Accuracy score for max_depth=9 and random_state=13 is: 74.0%\n",
            "Accuracy score for max_depth=9 and random_state=14 is: 74.0%\n",
            "Accuracy score for max_depth=9 and random_state=15 is: 74.0%\n",
            "Accuracy score for max_depth=9 and random_state=16 is: 74.0%\n",
            "Accuracy score for max_depth=9 and random_state=17 is: 74.0%\n",
            "Accuracy score for max_depth=9 and random_state=18 is: 74.0%\n",
            "Accuracy score for max_depth=9 and random_state=19 is: 74.0%\n",
            "Accuracy score for max_depth=9 and random_state=20 is: 74.0%\n",
            "Accuracy score for max_depth=9 and random_state=21 is: 74.0%\n",
            "Accuracy score for max_depth=9 and random_state=22 is: 74.0%\n",
            "Accuracy score for max_depth=9 and random_state=23 is: 74.0%\n",
            "Accuracy score for max_depth=9 and random_state=24 is: 74.0%\n",
            "-------------------------------------------\n",
            "The best accuracy is 67.5% with max_depth=9 and random_state=24\n"
          ]
        }
      ]
    },
    {
      "cell_type": "code",
      "source": [],
      "metadata": {
        "id": "4RNoYKiQhtvZ"
      },
      "execution_count": null,
      "outputs": []
    },
    {
      "cell_type": "markdown",
      "source": [
        "###PREDICTING NEW REVIEWS WITH DECISION TREE\n"
      ],
      "metadata": {
        "id": "ukSPhhPIj3dx"
      }
    },
    {
      "cell_type": "code",
      "source": [
        "import re\n",
        "from nltk.corpus import stopwords\n",
        "from nltk.stem import PorterStemmer\n",
        "from sklearn.feature_extraction.text import CountVectorizer\n",
        "\n",
        "def predict_sentiment(sample_review):\n",
        "\n",
        "\tsample_review = re.sub(pattern='[^a-zA-Z]',repl=' ',string=sample_review)\n",
        "\tsample_review = sample_review.lower()\n",
        "\tsample_review_words = sample_review.split()\n",
        "\tsample_review_words = [word for word in sample_review_words if not word in set(stopwords.words('english'))]\n",
        "\tps = PorterStemmer()\n",
        "\tfinal_review = [ps.stem(word) for word in sample_review_words]\n",
        "\tfinal_review = ' '.join(final_review)\n",
        "\n",
        "\ttemp = vectorizer.transform([final_review]).toarray()\n",
        "\treturn rf.predict(temp)\n",
        "\n",
        "def predict_review(sample_review):\n",
        "\tif predict_sentiment(sample_review):\n",
        "\t\tprint('this is a positive review')\n",
        "\telse:\n",
        "\t\tprint('this is a negative review')\n",
        "\n",
        "\n",
        "sample_review_dt  = 'nice nice nice '\n",
        "predict_review(sample_review_dt)\n"
      ],
      "metadata": {
        "colab": {
          "base_uri": "https://localhost:8080/"
        },
        "id": "W8RlZ_imj2OP",
        "outputId": "dba3f23d-54e2-4bc8-d6a1-e99e3963e12f"
      },
      "execution_count": null,
      "outputs": [
        {
          "output_type": "stream",
          "name": "stdout",
          "text": [
            "this is a positive review\n"
          ]
        }
      ]
    },
    {
      "cell_type": "code",
      "source": [],
      "metadata": {
        "id": "C-6Ap1xbkFI_"
      },
      "execution_count": null,
      "outputs": []
    }
  ]
}